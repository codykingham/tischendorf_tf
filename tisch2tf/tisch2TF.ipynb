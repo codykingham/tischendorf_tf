{
 "cells": [
  {
   "cell_type": "markdown",
   "metadata": {},
   "source": [
    "# Tischendorf MorphGNT to Text-Fabric"
   ]
  },
  {
   "cell_type": "code",
   "execution_count": 1,
   "metadata": {},
   "outputs": [],
   "source": [
    "import os\n",
    "import re\n",
    "import collections\n",
    "import json\n",
    "import csv\n",
    "from glob import glob\n",
    "from tf.fabric import Fabric\n",
    "from tf.convert.walker import CV\n",
    "from tf.compose import modify"
   ]
  },
  {
   "cell_type": "markdown",
   "metadata": {},
   "source": [
    "## Path Configs"
   ]
  },
  {
   "cell_type": "code",
   "execution_count": 2,
   "metadata": {},
   "outputs": [],
   "source": [
    "source_repo = os.path.expanduser('~/github/tischendorf-data')\n",
    "source_dirs = os.path.join(source_repo, 'word-per-line/*')\n",
    "output_dirs = '../tf/{version}'"
   ]
  },
  {
   "cell_type": "markdown",
   "metadata": {},
   "source": [
    "## Get Latest Source Data\n",
    "\n",
    "Pull the latest Tischendorf data from the [source Github directory](https://github.com/morphgnt/tischendorf-data)."
   ]
  },
  {
   "cell_type": "code",
   "execution_count": 3,
   "metadata": {},
   "outputs": [
    {
     "name": "stdout",
     "output_type": "stream",
     "text": [
      "From https://github.com/morphgnt/tischendorf-data\n",
      " * branch            master     -> FETCH_HEAD\n",
      "Already up to date.\n"
     ]
    }
   ],
   "source": [
    "!cd $source_repo; git pull origin master"
   ]
  },
  {
   "cell_type": "markdown",
   "metadata": {},
   "source": [
    "## Select Versions\n",
    "\n",
    "At this stage, I will seek to convert the latest version of Tischendorf."
   ]
  },
  {
   "cell_type": "code",
   "execution_count": 4,
   "metadata": {},
   "outputs": [],
   "source": [
    "versions = sorted(glob(source_dirs))\n",
    "version_dirs = [versions[-1]] # convert latest version only for now"
   ]
  },
  {
   "cell_type": "markdown",
   "metadata": {},
   "source": [
    "## Processing Data\n",
    "\n",
    "Intelligence needed to process the text."
   ]
  },
  {
   "cell_type": "code",
   "execution_count": 5,
   "metadata": {},
   "outputs": [],
   "source": [
    "bo2book = {line.split()[0]:line.split()[1] for line in '''\n",
    "MT Matthew\n",
    "MR Mark\n",
    "LU Luke\n",
    "JOH John\n",
    "AC Acts\n",
    "RO Romans\n",
    "1CO 1_Corinthians\n",
    "2CO 2_Corinthians\n",
    "GA Galatians\n",
    "EPH Ephesians\n",
    "PHP Philippians\n",
    "COL Colossians\n",
    "1TH 1_Thessalonians\n",
    "2TH 2_Thessalonians\n",
    "1TI 1_Timothy\n",
    "2TI 2_Timothy\n",
    "TIT Titus\n",
    "PHM Philemon\n",
    "HEB Hebrews\n",
    "JAS James\n",
    "1PE 1_Peter\n",
    "2PE 2_Peter\n",
    "1JO 1_John\n",
    "2JO 2_John\n",
    "3JO 3_John\n",
    "JUDE Jude\n",
    "RE Revelation\n",
    "'''.split('\\n') if line}\n",
    "\n",
    "patts = {'section': re.compile('(\\d*):(\\d*)\\.(\\d*)')}"
   ]
  },
  {
   "cell_type": "markdown",
   "metadata": {},
   "source": [
    "## Write a CV Walk Director to Process the Text\n",
    "\n",
    "See the documentation for the CV walk class [here](https://annotation.github.io/text-fabric/Create/Convert/)."
   ]
  },
  {
   "cell_type": "code",
   "execution_count": 6,
   "metadata": {},
   "outputs": [],
   "source": [
    "def director(cv):\n",
    "        \n",
    "    '''\n",
    "    Walks through Tischendorf and triggers\n",
    "    slot and node creation events.\n",
    "    '''\n",
    "        \n",
    "    # process books in order\n",
    "    for bo, book in bo2book.items():\n",
    "        \n",
    "        book_loc = os.path.join(version_loc, f'Unicode/{bo}.txt')\n",
    "        \n",
    "        print(f'\\thandling {book_loc}...')\n",
    "        \n",
    "        with open(book_loc, 'r') as infile:\n",
    "            text = [w for w in infile.read().split('\\n') if w]\n",
    "            \n",
    "        this_book = cv.node('book')\n",
    "        cv.feature(this_book, book=book)\n",
    "            \n",
    "        # keep track of when to trigger paragraph, chapter, and verse objects\n",
    "        para_track = 1 # keep counts of paragraphs\n",
    "        prev_chap = 1 # start at 1\n",
    "        prev_verse = 1 # start at 1\n",
    "        this_chap = cv.node('chapter')\n",
    "        this_para = cv.node('paragraph')\n",
    "        this_verse = cv.node('verse')\n",
    "        \n",
    "        # iterate through words and construct objects\n",
    "        for word in text:\n",
    "            \n",
    "            data = word.split()\n",
    "            word_data, lemmas = data[:7], data[7:]\n",
    "            \n",
    "            # segment out word data\n",
    "            bo_code, ref, brake, ketiv, qere, morph, strongs = word_data\n",
    "            strongs_lemma, anlex_lemma = ' '.join(lemmas).split('!') # reconstitute lemmas and split on !\n",
    "\n",
    "            chapt, verse, wrdnum = [int(v) for v in patts['section'].match(ref).groups()]\n",
    "            \n",
    "            # -- handle TF events --\n",
    "            \n",
    "            # detect chapter boundary\n",
    "            if prev_chap != chapt:\n",
    "                \n",
    "                # end verse\n",
    "                cv.feature(this_verse, verse=prev_verse)\n",
    "                cv.terminate(this_verse)\n",
    "                \n",
    "                # end chapter\n",
    "                cv.feature(this_chap, chapter=prev_chap)\n",
    "                cv.terminate(this_chap)\n",
    "                \n",
    "                # new chapter and verse begin\n",
    "                this_chap = cv.node('chapter')\n",
    "                prev_chap = chapt\n",
    "                this_verse = cv.node('verse')\n",
    "                prev_verse = verse\n",
    "            \n",
    "            # detect verse boundary\n",
    "            elif prev_verse != verse:\n",
    "                cv.feature(this_verse, verse=prev_verse)\n",
    "                cv.terminate(this_verse)\n",
    "                this_verse = cv.node('verse') # start a new verse\n",
    "                prev_verse = verse\n",
    "                \n",
    "            # detect paragraph boundary\n",
    "            if brake == 'P':\n",
    "                cv.feature(this_para, para=para_track)\n",
    "                cv.terminate(this_para)\n",
    "                this_para = cv.node('paragraph') # start a new paragraph\n",
    "                para_track += 1 # count paragraphs in the book\n",
    "                \n",
    "            # make word object\n",
    "            this_word = cv.slot()\n",
    "            cv.feature(this_word, \n",
    "                       ketiv=ketiv, \n",
    "                       qere=qere, \n",
    "                       morph=morph, \n",
    "                       strongs=strongs, \n",
    "                       vrsnum=wrdnum,\n",
    "                       str_lem=strongs_lemma.strip(),\n",
    "                       anlex_lem=anlex_lemma.strip()\n",
    "                      )\n",
    "            cv.terminate(this_word)\n",
    "        \n",
    "        # end book and its objects\n",
    "        # - end verse\n",
    "        cv.feature(this_verse, verse=prev_verse)\n",
    "        cv.terminate(this_verse)\n",
    "        \n",
    "        # - end paragraph\n",
    "        cv.feature(this_para, para=para_track)\n",
    "        cv.terminate(this_para)\n",
    "        \n",
    "        # - end chapter\n",
    "        cv.feature(this_chap, chapter=prev_chap)\n",
    "        cv.terminate(this_chap)\n",
    "        \n",
    "        # - end book\n",
    "        cv.feature(this_book, book=book, book_code=bo)\n",
    "        cv.terminate(this_book)"
   ]
  },
  {
   "cell_type": "markdown",
   "metadata": {},
   "source": [
    "## Make the Conversion"
   ]
  },
  {
   "cell_type": "markdown",
   "metadata": {},
   "source": [
    "### Corpus and TF Feature Metadata"
   ]
  },
  {
   "cell_type": "code",
   "execution_count": 7,
   "metadata": {},
   "outputs": [],
   "source": [
    "slotType = 'word'\n",
    "otext = {'fmt:text-orig-full':'{qere} ',\n",
    "         'sectionTypes':'book,chapter,verse',\n",
    "         'sectionFeatures':'book,chapter,verse'}\n",
    "\n",
    "generic = {'Name': 'Morph-GNT Tischendorf',\n",
    "           'Version': None, # to be filled in\n",
    "           'Author': 'Constantin von Tischendorf',\n",
    "           'Editors': 'Ulrik Sandborg-Petersen, G. Clint Yale, and Maurice A. Robinson',\n",
    "           'Converter': 'Cody Kingham', \n",
    "           'Source:':'https://github.com/morphgnt/tischendorf-data/',\n",
    "           'Note':'Feature descriptions adapted from tischendorf-data README'}\n",
    "\n",
    "intFeatures = {'chapter', 'para', 'verse'}\n",
    "\n",
    "featureMeta = {'book': {'description': 'A book name'},\n",
    "               'chapter': {'description': 'A chapter number'},\n",
    "               'verse': {'description': 'A verse number'},\n",
    "               'book_code':{'description': 'Short book abbreviation'},\n",
    "               'para': {'description': 'A paragraph number'},\n",
    "               'ketiv': {'descrption': 'The text as it is written in the printed Tischendorf'},\n",
    "               'qere': {'description': 'The text as the editor thinks it should have been'},\n",
    "               'morph': {'description': 'Word morphological tag based on Maurice A Robinson\\'s analysis'},\n",
    "               'strongs': {'description': 'A word\\'s number in Strongs'},\n",
    "               'vrsnum': {'description': 'N-word in verse'},\n",
    "               'str_lem': {'description': 'Word lemma that corresponds to The NEW Strong\\'sComplete Dictionary of Bible Words'},\n",
    "               'anlex_lem': {'description': 'Word lemma that corresponds to Friberg, Friberg and Miller\\'s ANLEX'}\n",
    "              }"
   ]
  },
  {
   "cell_type": "markdown",
   "metadata": {},
   "source": [
    "### Conversion"
   ]
  },
  {
   "cell_type": "code",
   "execution_count": 8,
   "metadata": {},
   "outputs": [
    {
     "name": "stdout",
     "output_type": "stream",
     "text": [
      "Processing Version 2.8\n",
      "  0.00s Importing data from walking through the source ...\n",
      "   |     0.00s Preparing metadata... \n",
      "   |     0.00s No structure nodes will be set up\n",
      "   |   SECTION   TYPES:    book, chapter, verse\n",
      "   |   SECTION   FEATURES: book, chapter, verse\n",
      "   |   STRUCTURE TYPES:    \n",
      "   |   STRUCTURE FEATURES: \n",
      "   |   TEXT      FEATURES:\n",
      "   |      |   text-orig-full       qere\n",
      "   |     0.01s OK\n",
      "   |     0.00s Following director... \n",
      "\thandling /Users/cody/github/tischendorf-data/word-per-line/2.8/Unicode/MT.txt...\n",
      "\thandling /Users/cody/github/tischendorf-data/word-per-line/2.8/Unicode/MR.txt...\n",
      "\thandling /Users/cody/github/tischendorf-data/word-per-line/2.8/Unicode/LU.txt...\n",
      "\thandling /Users/cody/github/tischendorf-data/word-per-line/2.8/Unicode/JOH.txt...\n",
      "\thandling /Users/cody/github/tischendorf-data/word-per-line/2.8/Unicode/AC.txt...\n",
      "\thandling /Users/cody/github/tischendorf-data/word-per-line/2.8/Unicode/RO.txt...\n",
      "\thandling /Users/cody/github/tischendorf-data/word-per-line/2.8/Unicode/1CO.txt...\n",
      "\thandling /Users/cody/github/tischendorf-data/word-per-line/2.8/Unicode/2CO.txt...\n",
      "\thandling /Users/cody/github/tischendorf-data/word-per-line/2.8/Unicode/GA.txt...\n",
      "\thandling /Users/cody/github/tischendorf-data/word-per-line/2.8/Unicode/EPH.txt...\n",
      "\thandling /Users/cody/github/tischendorf-data/word-per-line/2.8/Unicode/PHP.txt...\n",
      "\thandling /Users/cody/github/tischendorf-data/word-per-line/2.8/Unicode/COL.txt...\n",
      "\thandling /Users/cody/github/tischendorf-data/word-per-line/2.8/Unicode/1TH.txt...\n",
      "\thandling /Users/cody/github/tischendorf-data/word-per-line/2.8/Unicode/2TH.txt...\n",
      "\thandling /Users/cody/github/tischendorf-data/word-per-line/2.8/Unicode/1TI.txt...\n",
      "\thandling /Users/cody/github/tischendorf-data/word-per-line/2.8/Unicode/2TI.txt...\n",
      "\thandling /Users/cody/github/tischendorf-data/word-per-line/2.8/Unicode/TIT.txt...\n",
      "\thandling /Users/cody/github/tischendorf-data/word-per-line/2.8/Unicode/PHM.txt...\n",
      "\thandling /Users/cody/github/tischendorf-data/word-per-line/2.8/Unicode/HEB.txt...\n",
      "\thandling /Users/cody/github/tischendorf-data/word-per-line/2.8/Unicode/JAS.txt...\n",
      "\thandling /Users/cody/github/tischendorf-data/word-per-line/2.8/Unicode/1PE.txt...\n",
      "\thandling /Users/cody/github/tischendorf-data/word-per-line/2.8/Unicode/2PE.txt...\n",
      "\thandling /Users/cody/github/tischendorf-data/word-per-line/2.8/Unicode/1JO.txt...\n",
      "\thandling /Users/cody/github/tischendorf-data/word-per-line/2.8/Unicode/2JO.txt...\n",
      "\thandling /Users/cody/github/tischendorf-data/word-per-line/2.8/Unicode/3JO.txt...\n",
      "\thandling /Users/cody/github/tischendorf-data/word-per-line/2.8/Unicode/JUDE.txt...\n",
      "\thandling /Users/cody/github/tischendorf-data/word-per-line/2.8/Unicode/RE.txt...\n",
      "   |     1.77s \"edge\" actions: 0\n",
      "   |     1.77s \"feature\" actions: 146710\n",
      "   |     1.77s \"node\" actions: 8972\n",
      "   |     1.77s \"resume\" actions: 0\n",
      "   |     1.77s \"slot\" actions: 137711\n",
      "   |     1.77s \"terminate\" actions: 146683\n",
      "   |         27 x \"book\" node \n",
      "   |        262 x \"chapter\" node \n",
      "   |        732 x \"paragraph\" node \n",
      "   |       7951 x \"verse\" node \n",
      "   |     137711 x \"word\" node  = slot type\n",
      "   |     146683 nodes of all types\n",
      "   |     1.81s OK\n",
      "   |     0.00s checking for nodes and edges ... \n",
      "   |     0.00s OK\n",
      "   |     0.00s checking features ... \n",
      "   |     0.01s OK\n",
      "   |     0.00s reordering nodes ...\n",
      "   |     0.05s Sorting 27 nodes of type \"book\"\n",
      "   |     0.06s Sorting 262 nodes of type \"chapter\"\n",
      "   |     0.07s Sorting 732 nodes of type \"paragraph\"\n",
      "   |     0.09s Sorting 7951 nodes of type \"verse\"\n",
      "   |     0.11s Max node = 146683\n",
      "   |     0.11s OK\n",
      "   |     0.00s reassigning feature values ...\n",
      "   |      |    -0.00s node feature \"anlex_lem\" with 137711 nodes\n",
      "   |      |     0.05s node feature \"book\" with 27 nodes\n",
      "   |      |     0.05s node feature \"book_code\" with 27 nodes\n",
      "   |      |     0.05s node feature \"chapter\" with 262 nodes\n",
      "   |      |     0.05s node feature \"ketiv\" with 137711 nodes\n",
      "   |      |     0.10s node feature \"morph\" with 137711 nodes\n",
      "   |      |     0.13s node feature \"para\" with 732 nodes\n",
      "   |      |     0.13s node feature \"qere\" with 137711 nodes\n",
      "   |      |     0.19s node feature \"str_lem\" with 137711 nodes\n",
      "   |      |     0.25s node feature \"strongs\" with 137711 nodes\n",
      "   |      |     0.29s node feature \"verse\" with 7951 nodes\n",
      "   |      |     0.30s node feature \"vrsnum\" with 137711 nodes\n",
      "   |     0.36s OK\n",
      "  0.00s Exporting 13 node and 1 edge and 1 config features to /Users/cody/github/tischendorf_tf/tf/2.8:\n",
      "  0.00s VALIDATING oslots feature\n",
      "  0.03s VALIDATING oslots feature\n",
      "  0.03s maxSlot=     137711\n",
      "  0.03s maxNode=     146683\n",
      "  0.04s OK: oslots is valid\n",
      "   |     0.27s T anlex_lem            to /Users/cody/github/tischendorf_tf/tf/2.8\n",
      "   |     0.00s T book                 to /Users/cody/github/tischendorf_tf/tf/2.8\n",
      "   |     0.00s T book_code            to /Users/cody/github/tischendorf_tf/tf/2.8\n",
      "   |     0.00s T chapter              to /Users/cody/github/tischendorf_tf/tf/2.8\n",
      "   |     0.21s T ketiv                to /Users/cody/github/tischendorf_tf/tf/2.8\n",
      "   |     0.18s T morph                to /Users/cody/github/tischendorf_tf/tf/2.8\n",
      "   |     0.06s T otype                to /Users/cody/github/tischendorf_tf/tf/2.8\n",
      "   |     0.00s T para                 to /Users/cody/github/tischendorf_tf/tf/2.8\n",
      "   |     0.27s T qere                 to /Users/cody/github/tischendorf_tf/tf/2.8\n",
      "   |     0.19s T str_lem              to /Users/cody/github/tischendorf_tf/tf/2.8\n",
      "   |     0.18s T strongs              to /Users/cody/github/tischendorf_tf/tf/2.8\n",
      "   |     0.01s T verse                to /Users/cody/github/tischendorf_tf/tf/2.8\n",
      "   |     0.16s T vrsnum               to /Users/cody/github/tischendorf_tf/tf/2.8\n",
      "   |     0.10s T oslots               to /Users/cody/github/tischendorf_tf/tf/2.8\n",
      "   |     0.00s M otext                to /Users/cody/github/tischendorf_tf/tf/2.8\n",
      "  1.71s Exported 13 node features and 1 edge features and 1 config features to /Users/cody/github/tischendorf_tf/tf/2.8\n"
     ]
    }
   ],
   "source": [
    "for version_loc in version_dirs:\n",
    "    \n",
    "    # configure metadata/output\n",
    "    version = os.path.basename(version_loc)\n",
    "    generic['Version'] = version\n",
    "    \n",
    "    output = os.path.join(output_dirs, version)\n",
    "\n",
    "    print(f'Processing Version {version}')\n",
    "    output_dir = output_dirs.format(version=version)\n",
    "\n",
    "    TF = Fabric(locations=output_dir, silent=True)\n",
    "    cv = CV(TF)\n",
    "    \n",
    "    good = cv.walk(director,\n",
    "                   slotType,\n",
    "                   otext=otext,\n",
    "                   generic=generic,\n",
    "                   intFeatures=intFeatures,\n",
    "                   featureMeta=featureMeta,\n",
    "                   warn=True,\n",
    "                   force=False,)"
   ]
  },
  {
   "cell_type": "markdown",
   "metadata": {},
   "source": [
    "## Enhancements\n",
    "\n",
    "The following new node types and features will be added to the corpus:\n",
    "\n",
    "* gloss - glosses are added from Mounce\n",
    "* lex - a node that contains words with the same lemma\n",
    "* freq_lex - an `int` feature of `lex` and `word` that gives a lexeme's frequency\n",
    "\n",
    "The additions are made by processing the initial Tischendorf dataset alongside Text-Fabric's `modify` class."
   ]
  },
  {
   "cell_type": "markdown",
   "metadata": {},
   "source": [
    "### Load the Corpus"
   ]
  },
  {
   "cell_type": "code",
   "execution_count": 9,
   "metadata": {},
   "outputs": [
    {
     "name": "stdout",
     "output_type": "stream",
     "text": [
      "This is Text-Fabric 7.8.7\n",
      "Api reference : https://annotation.github.io/text-fabric/Api/Fabric/\n",
      "\n",
      "17 features found and 0 ignored\n",
      "  0.00s loading features ...\n",
      "   |     0.06s T otype                from /Users/cody/github/tischendorf_tf/tf/2.8\n",
      "   |     0.30s T oslots               from /Users/cody/github/tischendorf_tf/tf/2.8\n",
      "   |     0.00s No structure info in otext, the structure part of the T-API cannot be used\n",
      "   |     0.41s T qere                 from /Users/cody/github/tischendorf_tf/tf/2.8\n",
      "   |     0.02s T verse                from /Users/cody/github/tischendorf_tf/tf/2.8\n",
      "   |     0.00s T chapter              from /Users/cody/github/tischendorf_tf/tf/2.8\n",
      "   |     0.00s T book                 from /Users/cody/github/tischendorf_tf/tf/2.8\n",
      "   |      |     0.01s C __levels__           from otype, oslots, otext\n",
      "   |      |     0.94s C __order__            from otype, oslots, __levels__\n",
      "   |      |     0.06s C __rank__             from otype, __order__\n",
      "   |      |     0.90s C __levUp__            from otype, oslots, __rank__\n",
      "   |      |     0.04s C __levDown__          from otype, __levUp__, __rank__\n",
      "   |      |     0.50s C __boundary__         from otype, oslots, __rank__\n",
      "   |      |     0.03s C __sections__         from otype, oslots, otext, __levUp__, __levels__, book, chapter, verse\n",
      "   |     0.01s T para                 from /Users/cody/github/tischendorf_tf/tf/2.8\n",
      "   |     0.41s T ketiv                from /Users/cody/github/tischendorf_tf/tf/2.8\n",
      "   |     0.38s T anlex_lem            from /Users/cody/github/tischendorf_tf/tf/2.8\n",
      "   |     0.33s T str_lem              from /Users/cody/github/tischendorf_tf/tf/2.8\n",
      "   |     0.37s T strongs              from /Users/cody/github/tischendorf_tf/tf/2.8\n",
      "  4.80s All features loaded/computed - for details use loadLog()\n"
     ]
    }
   ],
   "source": [
    "TF = Fabric(locations=output_dir)\n",
    "api = TF.load('''\n",
    "\n",
    "book chapter verse para\n",
    "ketiv anlex_lem str_lem\n",
    "strongs\n",
    "\n",
    "''')\n",
    "\n",
    "classes = api.makeAvailableIn(globals())"
   ]
  },
  {
   "cell_type": "markdown",
   "metadata": {},
   "source": [
    "### Add glosses"
   ]
  },
  {
   "cell_type": "code",
   "execution_count": 10,
   "metadata": {},
   "outputs": [],
   "source": [
    "glossary_source = '/Users/cody/github/eliranwong/OpenGNT/Glossary/'\n",
    "glossary = os.path.join(glossary_source, 'GK_lemma_EnglishGloss.csv')\n",
    "glossary_orig = '/Users/cody/github/billmounce/dictionary/dictionary.txt'\n",
    "nodeFeatures = collections.defaultdict(lambda:collections.defaultdict(list))"
   ]
  },
  {
   "cell_type": "markdown",
   "metadata": {},
   "source": [
    "Get latest openGNT data from Eliran Wong. He provides a list of abbreviated glosses at: https://github.com/eliranwong/OpenGNT/blob/master/Glossary/GK_lemma_EnglishGloss.csv \n",
    "\n",
    "The glosses themselves come from Bill Mounce:\n",
    "https://github.com/billmounce/dictionary\n",
    "\n",
    "The gloss matching is facilitated by Mounce's inclusion of strongs numbers."
   ]
  },
  {
   "cell_type": "code",
   "execution_count": 11,
   "metadata": {},
   "outputs": [
    {
     "name": "stdout",
     "output_type": "stream",
     "text": [
      "From https://github.com/eliranwong/OpenGNT\n",
      " * branch            master     -> FETCH_HEAD\n",
      "Already up to date.\n"
     ]
    }
   ],
   "source": [
    "!cd $glossary_source; git pull origin master"
   ]
  },
  {
   "cell_type": "markdown",
   "metadata": {},
   "source": [
    "#### Load Glossary and Match Words to Glosses\n",
    "\n",
    "Eliran Wong's glosses must be brought back to into contact with the original source for Strongs numbers."
   ]
  },
  {
   "cell_type": "code",
   "execution_count": 12,
   "metadata": {},
   "outputs": [],
   "source": [
    "with open(glossary, 'r') as infile:\n",
    "    reader = csv.reader(infile)\n",
    "    raw_glosses = [line[0].split('\\t') for line in reader]\n",
    "    glosses = {int(line[0]):line[2] for line in raw_glosses}\n",
    "    surfaces2gloss = {line[1]:line[2] for line in raw_glosses}\n",
    "\n",
    "with open('/Users/cody/github/billmounce/dictionary/dictionary.txt', 'r') as infile:\n",
    "    mounce_dict = infile.read().split('\\n')"
   ]
  },
  {
   "cell_type": "markdown",
   "metadata": {},
   "source": [
    "The raw mounce dictionary.txt file is parsed since some strongs numbers appear to be missing from the .json version."
   ]
  },
  {
   "cell_type": "code",
   "execution_count": 13,
   "metadata": {},
   "outputs": [],
   "source": [
    "# process Mounce file \n",
    "# the file contains Mounce ID to strongs mappings\n",
    "\n",
    "strongs2mounce = {}\n",
    "find_ids = re.compile(r'^GK (G\\d\\d*) \\| S ([G, π, 0-9]*)') # first line of dictionary entry\n",
    "clean_ids = re.compile(r'\\d\\d*') # grabs the IDs\n",
    "\n",
    "# parse Mounce dictionary\n",
    "# add strongs data\n",
    "for line in mounce_dict[100:]:\n",
    "    \n",
    "    # parse lines that contain data\n",
    "    get_codes = find_ids.findall(line)\n",
    "    if get_codes:\n",
    "        \n",
    "        mounce_id = int(clean_ids.findall(get_codes[0][0])[0]) # get mounce code\n",
    "        strongs = [int(code.strip()) for code in clean_ids.findall(get_codes[0][1])] # get strongs numbers\n",
    "        \n",
    "        # make mapping from strongs to mounce\n",
    "        for strong in strongs:\n",
    "            strongs2mounce[strong] = mounce_id\n",
    "            \n",
    "# make the mapping from strong to mounce glosses\n",
    "strongs2gloss = {strong:glosses[mounce] for strong, mounce in strongs2mounce.items()} # strongs code to Mounce gloss"
   ]
  },
  {
   "cell_type": "markdown",
   "metadata": {},
   "source": [
    "Now make the matches"
   ]
  },
  {
   "cell_type": "code",
   "execution_count": 15,
   "metadata": {},
   "outputs": [
    {
     "name": "stdout",
     "output_type": "stream",
     "text": [
      "42 words not matched...\n",
      "137711  words matched...\n"
     ]
    }
   ],
   "source": [
    "def match_gloss(word):\n",
    "    '''\n",
    "    Match a word node to its gloss.\n",
    "    '''\n",
    "    strongs = int(F.strongs.v(word))\n",
    "    gloss = strongs2gloss.get(strongs, None) # first try strongs\n",
    "    gloss = gloss or surfaces2gloss.get(F.anlex_lem.v(word), None) # second try the anlex surface form\n",
    "    gloss = gloss or surfaces2gloss.get(F.str_lem.v(word), None) # third try the strongs surface form\n",
    "    return gloss\n",
    "\n",
    "\n",
    "no_matches = []\n",
    "\n",
    "for word in F.otype.s('word'):\n",
    "    \n",
    "    gloss = match_gloss(word)\n",
    "    \n",
    "    if gloss:\n",
    "        nodeFeatures['gloss'][word] = gloss\n",
    "    else:\n",
    "        nodeFeatures['gloss'][word] = 'UNKNOWN'\n",
    "        no_matches.append((word, F.anlex_lem.v(word), F.strongs.v(word)))\n",
    "        \n",
    "print(f'{len(no_matches)} words not matched...')\n",
    "print(len(nodeFeatures['gloss']), ' words matched...')"
   ]
  },
  {
   "cell_type": "markdown",
   "metadata": {},
   "source": [
    "#### No Matches\n",
    "\n",
    "A number of words receive no match on any of the criteria. Here they are:"
   ]
  },
  {
   "cell_type": "code",
   "execution_count": 17,
   "metadata": {},
   "outputs": [
    {
     "data": {
      "text/plain": [
       "[(6544, 'σκορπίζω', '4650'),\n",
       " (14538, 'σκοτίζω', '4654'),\n",
       " (27124, 'σκοτίζω', '4654'),\n",
       " (30752, 'ἔγκυος', '1471'),\n",
       " (35506, 'Χουζᾶς', '5529'),\n",
       " (38904, 'σκορπίζω', '4650'),\n",
       " (41336, 'ἀνώτερος', '511'),\n",
       " (45261, 'ἐγκάθετος', '1455'),\n",
       " (50616, 'Σαλείμ', '4530'),\n",
       " (56788, 'σκορπίζω', '4650'),\n",
       " (59408, 'ἀπάρτι', '534'),\n",
       " (59848, 'ἀπάρτι', '534'),\n",
       " (61360, 'σκορπίζω', '4650'),\n",
       " (61905, 'χείμαρρος', '5493'),\n",
       " (64988, 'Ἁκελδαμάχ', '184'),\n",
       " (75735, 'Ἀθῆναι', '116'),\n",
       " (75755, 'Ἀθῆναι', '116'),\n",
       " (76126, 'Ἀθῆναι', '116'),\n",
       " (77637, 'Χίος', '5508'),\n",
       " (83368, 'σκοτίζω', '4654'),\n",
       " (83653, 'ἀμετανόητος', '279'),\n",
       " (87783, 'σκοτίζω', '4654'),\n",
       " (90306, 'Χλόη', '5514'),\n",
       " (91742, 'συναναμίγνυμι', '4874'),\n",
       " (91770, 'συναναμίγνυμι', '4874'),\n",
       " (96920, 'μαράνα θᾶ', '3134'),\n",
       " (96921, 'μαράνα θᾶ', '3134'),\n",
       " (99830, 'σκορπίζω', '4650'),\n",
       " (103687, 'ἄμωμος', '299'),\n",
       " (105544, 'ἄμωμος', '299'),\n",
       " (106738, 'ἄμωμος', '299'),\n",
       " (108039, 'ἄμωμος', '299'),\n",
       " (109845, 'Ἀθῆναι', '116'),\n",
       " (111477, 'συναναμίγνυμι', '4874'),\n",
       " (118009, 'ἄμωμος', '299'),\n",
       " (118366, 'ἀνώτερος', '511'),\n",
       " (122336, 'ἄμωμος', '299'),\n",
       " (127849, 'ἄμωμος', '299'),\n",
       " (131212, 'σκοτίζω', '4654'),\n",
       " (133425, 'χξζ', '5516'),\n",
       " (133556, 'ἄμωμος', '299'),\n",
       " (133771, 'ἀπάρτι', '534')]"
      ]
     },
     "execution_count": 17,
     "metadata": {},
     "output_type": "execute_result"
    }
   ],
   "source": [
    "no_matches"
   ]
  },
  {
   "cell_type": "markdown",
   "metadata": {},
   "source": [
    "### Add Lexeme Objects"
   ]
  },
  {
   "cell_type": "code",
   "execution_count": 18,
   "metadata": {},
   "outputs": [
    {
     "data": {
      "text/plain": [
       "5394"
      ]
     },
     "execution_count": 18,
     "metadata": {},
     "output_type": "execute_result"
    }
   ],
   "source": [
    "# Lexeme objects are generated by grouping words with identical\n",
    "# lemma strings. The strings are mapped to a dict, lexstring2node,\n",
    "# which guides the grouping process. Along the way, a mapping is \n",
    "# kept to lexeme's contained words (lex_slots) and their string feature\n",
    "\n",
    "lexstring2node = {}\n",
    "lex_slots = collections.defaultdict(set)\n",
    "lex_features = collections.defaultdict(lambda: collections.defaultdict())\n",
    "max_node = 0\n",
    "\n",
    "# built the lexeme objects\n",
    "for word in F.otype.s('word'):\n",
    "    \n",
    "    lemma = F.anlex_lem.v(word) # get Analytical lexeme string for mapping\n",
    "    try:\n",
    "        gloss = match_gloss(word)\n",
    "    except:\n",
    "        raise Exception(word)\n",
    "    node = lexstring2node.get(lemma, None) # get assigned node number\n",
    "    \n",
    "    # assign node number if not exists\n",
    "    if not node:\n",
    "        max_node += 1\n",
    "        node = max_node\n",
    "        lexstring2node[lemma] = node # assign string 2 node mapping\n",
    "        lex_features['anlex_lem'][node] = lemma # assign string feature to lexeme node\n",
    "        lex_features['gloss'][node] = gloss # assign gloss\n",
    "        \n",
    "    # collect slot\n",
    "    lex_slots[node].add(word)\n",
    "    \n",
    "len(lex_slots)"
   ]
  },
  {
   "cell_type": "markdown",
   "metadata": {},
   "source": [
    "Now the `freq_lex` feature is created. It is stored only on `lex` for now."
   ]
  },
  {
   "cell_type": "code",
   "execution_count": 19,
   "metadata": {},
   "outputs": [],
   "source": [
    "for node, words in lex_slots.items():\n",
    "    lex_features['freq_lex'][node] = len(words)"
   ]
  },
  {
   "cell_type": "markdown",
   "metadata": {},
   "source": [
    "We use the `modify` class from Text-Fabric (see [docs](https://annotation.github.io/text-fabric/Api/Compose/#modify)) to add new objects and features. The class requires a dictionary, called `addTypes`. That is formatted below before calling the modify class. Another dictionary, `metaData` gives the metadata for the new features."
   ]
  },
  {
   "cell_type": "code",
   "execution_count": 20,
   "metadata": {},
   "outputs": [],
   "source": [
    "addTypes = {'lex': {'nodeFrom': 1, # starting temporary node number\n",
    "                    'nodeTo': max_node, # ending temp. node num.\n",
    "                    'nodeSlots': lex_slots,\n",
    "                    'nodeFeatures': lex_features,\n",
    "                   }\n",
    "           }\n",
    "\n",
    "feature_meta = {\n",
    "            'freq_lex': {'description': 'A lexeme\\'s frequency throughout the corpus',\n",
    "                         'valueType': 'int'},\n",
    "            'gloss': {'Source': 'https://github.com/eliranwong/OpenGNT/blob/master/Glossary/GK_lemma_EnglishGloss.csv',\n",
    "                      'Author': 'Bill Mounce',\n",
    "                      'Editor': 'Eliran Wong',\n",
    "                      'description': 'Lemma glosses from Bill Mounce'}\n",
    "           }"
   ]
  },
  {
   "cell_type": "markdown",
   "metadata": {},
   "source": [
    "Now the new object is added."
   ]
  },
  {
   "cell_type": "code",
   "execution_count": 21,
   "metadata": {},
   "outputs": [],
   "source": [
    "# first clean out any old data\n",
    "!cd ../tf/2.8/_temp; for file in *.tf; do rm $file; done"
   ]
  },
  {
   "cell_type": "code",
   "execution_count": 22,
   "metadata": {},
   "outputs": [
    {
     "name": "stdout",
     "output_type": "stream",
     "text": [
      "  0.00s preparing and checking ...\n",
      "This is Text-Fabric 7.8.7\n",
      "Api reference : https://annotation.github.io/text-fabric/Api/Fabric/\n",
      "\n",
      "17 features found and 0 ignored\n",
      "  0.00s loading features ...\n",
      "   |     0.00s No structure info in otext, the structure part of the T-API cannot be used\n",
      "  0.25s All features loaded/computed - for details use loadLog()\n",
      "  0.00s loading features ...\n",
      "   |     0.00s No structure info in otext, the structure part of the T-API cannot be used\n",
      "  0.00s All features loaded/computed - for details use loadLog()\n",
      "  0.00s loading features ...\n",
      "   |     0.00s T book_code            from /Users/cody/github/tischendorf_tf/tf/2.8\n",
      "   |     0.02s T freq_lex             from /Users/cody/github/tischendorf_tf/tf/2.8\n",
      "   |     0.30s T morph                from /Users/cody/github/tischendorf_tf/tf/2.8\n",
      "   |     0.36s T vrsnum               from /Users/cody/github/tischendorf_tf/tf/2.8\n",
      "  0.80s All additional features loaded - for details use loadLog()\n",
      "   |     1.09s done\n",
      "  1.09s add features ...\n",
      "   |     0.01s done (added 1 node + 0 edge features)\n",
      "   |      |     0.00s edge features: \n",
      "   |      |     0.00s node features: gloss\n",
      "  1.17s add types ...\n",
      "   |     0.04s done (1 types)\n",
      "   |      |   lex\n",
      "  1.21s applying updates ...\n",
      "  1.36s write TF data ...\n",
      "  3.17s all done\n"
     ]
    },
    {
     "data": {
      "text/plain": [
       "True"
      ]
     },
     "execution_count": 22,
     "metadata": {},
     "output_type": "execute_result"
    }
   ],
   "source": [
    "modify(\n",
    "    output_dirs.format(version='2.8'), # input files\n",
    "    output_dirs.format(version='2.8/_temp'), # output location\n",
    "    addTypes = addTypes,\n",
    "    featureMeta = feature_meta,\n",
    "    addFeatures = {'nodeFeatures':nodeFeatures}\n",
    ")"
   ]
  },
  {
   "cell_type": "markdown",
   "metadata": {},
   "source": [
    "### Move temporary files into the permanent position"
   ]
  },
  {
   "cell_type": "code",
   "execution_count": 23,
   "metadata": {},
   "outputs": [],
   "source": [
    "!cd ../tf/2.8/_temp; for file in *.tf; do cp $file ../; done"
   ]
  },
  {
   "cell_type": "markdown",
   "metadata": {},
   "source": [
    "## Reload and Test the Dataset\n",
    "\n",
    "Do a test load of the new data."
   ]
  },
  {
   "cell_type": "code",
   "execution_count": 24,
   "metadata": {},
   "outputs": [
    {
     "name": "stdout",
     "output_type": "stream",
     "text": [
      "This is Text-Fabric 7.8.7\n",
      "Api reference : https://annotation.github.io/text-fabric/Api/Fabric/\n",
      "\n",
      "17 features found and 0 ignored\n",
      "  0.00s loading features ...\n",
      "   |     0.07s T otype                from /Users/cody/github/tischendorf_tf/tf/2.8\n",
      "   |     0.52s T oslots               from /Users/cody/github/tischendorf_tf/tf/2.8\n",
      "   |     0.00s No structure info in otext, the structure part of the T-API cannot be used\n",
      "   |     0.43s T qere                 from /Users/cody/github/tischendorf_tf/tf/2.8\n",
      "   |     0.02s T verse                from /Users/cody/github/tischendorf_tf/tf/2.8\n",
      "   |     0.00s T chapter              from /Users/cody/github/tischendorf_tf/tf/2.8\n",
      "   |     0.00s T book                 from /Users/cody/github/tischendorf_tf/tf/2.8\n",
      "   |      |     0.01s C __levels__           from otype, oslots, otext\n",
      "   |      |     1.06s C __order__            from otype, oslots, __levels__\n",
      "   |      |     0.09s C __rank__             from otype, __order__\n",
      "   |      |     1.35s C __levUp__            from otype, oslots, __rank__\n",
      "   |      |     0.04s C __levDown__          from otype, __levUp__, __rank__\n",
      "   |      |     0.50s C __boundary__         from otype, oslots, __rank__\n",
      "   |      |     0.03s C __sections__         from otype, oslots, otext, __levUp__, __levels__, book, chapter, verse\n",
      "   |     0.00s T para                 from /Users/cody/github/tischendorf_tf/tf/2.8\n",
      "   |     0.35s T ketiv                from /Users/cody/github/tischendorf_tf/tf/2.8\n",
      "   |     0.34s T anlex_lem            from /Users/cody/github/tischendorf_tf/tf/2.8\n",
      "   |     0.33s T str_lem              from /Users/cody/github/tischendorf_tf/tf/2.8\n",
      "   |     0.30s T strongs              from /Users/cody/github/tischendorf_tf/tf/2.8\n",
      "   |     0.31s T gloss                from /Users/cody/github/tischendorf_tf/tf/2.8\n",
      "  5.78s All features loaded/computed - for details use loadLog()\n"
     ]
    }
   ],
   "source": [
    "TF = Fabric(locations=output_dir)\n",
    "api = TF.load('''\n",
    "\n",
    "book chapter verse para\n",
    "ketiv anlex_lem str_lem\n",
    "strongs gloss\n",
    "\n",
    "''')\n",
    "\n",
    "classes = api.makeAvailableIn(globals())"
   ]
  },
  {
   "cell_type": "markdown",
   "metadata": {},
   "source": [
    "### Test Gloss"
   ]
  },
  {
   "cell_type": "code",
   "execution_count": 25,
   "metadata": {},
   "outputs": [
    {
     "name": "stdout",
     "output_type": "stream",
     "text": [
      "                node                 text                lemma\tgloss\n",
      "                   1              Βίβλος                βίβλος\tbook\n",
      "                   2            γενέσεως               γένεσις\tbirth\n",
      "                   3               Ἰησοῦ                Ἰησοῦς\tJesus\n",
      "                   4             Χριστοῦ               Χριστός\tChrist\n",
      "                   5                υἱοῦ                  υἱός\tson\n",
      "                   6              Δαυεὶδ                 Δαυίδ\tDavid\n",
      "                   7                υἱοῦ                  υἱός\tson\n",
      "                   8             Ἀβραάμ.                Ἀβραάμ\tAbraham\n",
      "                   9              Ἀβραὰμ                Ἀβραάμ\tAbraham\n",
      "                  10           ἐγέννησεν                γεννάω\tto become the father of\n",
      "                  11                 τὸν                     ὁ\tthe\n",
      "                  12              Ἰσαάκ,                 Ἰσαάκ\tIsaac\n",
      "                  13               Ἰσαὰκ                 Ἰσαάκ\tIsaac\n",
      "                  14                  δὲ                    δέ\tbut\n",
      "                  15           ἐγέννησεν                γεννάω\tto become the father of\n",
      "                  16                 τὸν                     ὁ\tthe\n",
      "                  17              Ἰακώβ,                 Ἰακώβ\tJacob\n",
      "                  18               Ἰακὼβ                 Ἰακώβ\tJacob\n",
      "                  19                  δὲ                    δέ\tbut\n",
      "                  20           ἐγέννησεν                γεννάω\tto become the father of\n",
      "                  21                 τὸν                     ὁ\tthe\n",
      "                  22              Ἰούδαν                Ἰούδας\tJoda\n",
      "                  23                 καὶ                   καί\tand\n",
      "                  24                τοὺς                     ὁ\tthe\n",
      "                  25            ἀδελφοὺς               ἀδελφός\tbrother\n",
      "                  26              αὐτοῦ,                 αὐτός\the\n",
      "                  27              Ἰούδας                Ἰούδας\tJoda\n",
      "                  28                  δὲ                    δέ\tbut\n",
      "                  29           ἐγέννησεν                γεννάω\tto become the father of\n",
      "                  30                 τὸν                     ὁ\tthe\n",
      "                  31               Φάρες                 Φάρες\tPerez\n",
      "                  32                 καὶ                   καί\tand\n",
      "                  33                 τὸν                     ὁ\tthe\n",
      "                  34                Ζάρα                  Ζάρα\tZerah\n",
      "                  35                  ἐκ                    ἐκ\tof\n",
      "                  36                 τῆς                     ὁ\tthe\n",
      "                  37              Θαμάρ,                 Θαμάρ\tTamar\n",
      "                  38               Φάρες                 Φάρες\tPerez\n",
      "                  39                  δὲ                    δέ\tbut\n",
      "                  40           ἐγέννησεν                γεννάω\tto become the father of\n",
      "                  41                 τὸν                     ὁ\tthe\n",
      "                  42              Ἑσρώμ,                 Ἑσρώμ\tHezron\n",
      "                  43               Ἑσρὼμ                 Ἑσρώμ\tHezron\n",
      "                  44                  δὲ                    δέ\tbut\n",
      "                  45           ἐγέννησεν                γεννάω\tto become the father of\n",
      "                  46                 τὸν                     ὁ\tthe\n",
      "                  47               Ἀράμ,                  Ἀράμ\tRam\n",
      "                  48                Ἀρὰμ                  Ἀράμ\tRam\n",
      "                  49                  δὲ                    δέ\tbut\n",
      "                  50           ἐγέννησεν                γεννάω\tto become the father of\n",
      "                  51                 τὸν                     ὁ\tthe\n",
      "                  52           Ἀμιναδάβ,              Ἀμιναδάβ\tAmminadab\n",
      "                  53            Ἀμιναδὰβ              Ἀμιναδάβ\tAmminadab\n",
      "                  54                  δὲ                    δέ\tbut\n",
      "                  55           ἐγέννησεν                γεννάω\tto become the father of\n",
      "                  56                 τὸν                     ὁ\tthe\n",
      "                  57            Ναασσών,               Ναασσών\tNahshon\n",
      "                  58             Ναασσὼν               Ναασσών\tNahshon\n",
      "                  59                  δὲ                    δέ\tbut\n",
      "                  60           ἐγέννησεν                γεννάω\tto become the father of\n",
      "                  61                 τὸν                     ὁ\tthe\n",
      "                  62             Σαλμών,                Σαλμών\tSalmon\n",
      "                  63              Σαλμὼν                Σαλμών\tSalmon\n",
      "                  64                  δὲ                    δέ\tbut\n",
      "                  65           ἐγέννησεν                γεννάω\tto become the father of\n",
      "                  66                 τὸν                     ὁ\tthe\n",
      "                  67                Βόες                  Βόες\tBoaz\n",
      "                  68                  ἐκ                    ἐκ\tof\n",
      "                  69                 τῆς                     ὁ\tthe\n",
      "                  70              Ῥαχάβ,                 Ῥαχάβ\tRahab\n",
      "                  71                Βόες                  Βόες\tBoaz\n",
      "                  72                  δὲ                    δέ\tbut\n",
      "                  73           ἐγέννησεν                γεννάω\tto become the father of\n",
      "                  74                 τὸν                     ὁ\tthe\n",
      "                  75               Ἰωβὴδ                 Ἰωβήδ\tObed\n",
      "                  76                  ἐκ                    ἐκ\tof\n",
      "                  77                 τῆς                     ὁ\tthe\n",
      "                  78               Ῥούθ,                  Ῥούθ\tRuth\n",
      "                  79               Ἰωβὴδ                 Ἰωβήδ\tObed\n",
      "                  80                  δὲ                    δέ\tbut\n",
      "                  81           ἐγέννησεν                γεννάω\tto become the father of\n",
      "                  82                 τὸν                     ὁ\tthe\n",
      "                  83             Ἰεσσαί,                Ἰεσσαί\tJesse\n"
     ]
    }
   ],
   "source": [
    "print('{:>20} {:>20} {:>20}\\t{}'.format('node', 'text', 'lemma', 'gloss'))\n",
    "for verse in list(F.otype.s('verse'))[:5]:\n",
    "    for word in L.d(verse, 'word'):\n",
    "        text = T.text(word)\n",
    "        lemma = F.anlex_lem.v(word)\n",
    "        gloss = F.gloss.v(word)\n",
    "        print('{:>20} {:>20} {:>20}\\t{}'.format(word, text, lemma, gloss))"
   ]
  },
  {
   "cell_type": "code",
   "execution_count": 26,
   "metadata": {},
   "outputs": [
    {
     "name": "stdout",
     "output_type": "stream",
     "text": [
      "1_John 1:1\n",
      "\t\t Ὃ ἦν ἀπ’ ἀρχῆς, ὃ ἀκηκόαμεν, ὃ ἑωράκαμεν τοῖς ὀφθαλμοῖς ἡμῶν, ὃ ἐθεασάμεθα καὶ αἱ χεῖρες ἡμῶν ἐψηλάφησαν, περὶ τοῦ λόγου τῆς ζωῆς \n",
      "1_John 1:2\n",
      "\t\t καὶ ἡ ζωὴ ἐφανερώθη, καὶ ἑωράκαμεν καὶ μαρτυροῦμεν καὶ ἀπαγγέλλομεν ὑμῖν τὴν ζωὴν τὴν αἰώνιον ἥτις ἦν πρὸς τὸν πατέρα καὶ ἐφανερώθη ἡμῖν \n",
      "1_John 1:3\n",
      "\t\t ὃ ἑωράκαμεν καὶ ἀκηκόαμεν ἀπαγγέλλομεν καὶ ὑμῖν, ἵνα καὶ ὑμεῖς κοινωνίαν ἔχητε μεθ’ ἡμῶν. καὶ ἡ κοινωνία δὲ ἡ ἡμετέρα μετὰ τοῦ πατρὸς καὶ μετὰ τοῦ υἱοῦ αὐτοῦ Ἰησοῦ Χριστοῦ. \n",
      "1_John 1:4\n",
      "\t\t καὶ ταῦτα γράφομεν ἡμεῖς ἵνα ἡ χαρὰ ἡμῶν ᾖ πεπληρωμένη. \n",
      "1_John 1:5\n",
      "\t\t Καὶ ἔστιν αὕτη ἡ ἀγγελία ἣν ἀκηκόαμεν ἀπ’ αὐτοῦ καὶ ἀναγγέλλομεν ὑμῖν, ὅτι ὁ θεὸς φῶς ἐστιν καὶ σκοτία ἐν αὐτῷ οὐκ ἔστιν οὐδεμία. \n",
      "1_John 1:6\n",
      "\t\t ἐὰν εἴπωμεν ὅτι κοινωνίαν ἔχομεν μετ’ αὐτοῦ καὶ ἐν τῷ σκότει περιπατῶμεν, ψευδόμεθα καὶ οὐ ποιοῦμεν τὴν ἀλήθειαν· \n",
      "1_John 1:7\n",
      "\t\t ἐὰν δὲ ἐν τῷ φωτὶ περιπατῶμεν ὡς αὐτός ἐστιν ἐν τῷ φωτί, κοινωνίαν ἔχομεν μετ’ ἀλλήλων καὶ τὸ αἷμα Ἰησοῦ τοῦ υἱοῦ αὐτοῦ καθαρίζει ἡμᾶς ἀπὸ πάσης ἁμαρτίας. \n",
      "1_John 1:8\n",
      "\t\t ἐὰν εἴπωμεν ὅτι ἁμαρτίαν οὐκ ἔχομεν, ἑαυτοὺς πλανῶμεν καὶ ἡ ἀλήθεια οὐκ ἔστιν ἐν ἡμῖν. \n",
      "1_John 1:9\n",
      "\t\t ἐὰν ὁμολογῶμεν τὰς ἁμαρτίας ἡμῶν, πιστός ἐστιν καὶ δίκαιος ἵνα ἀφῇ ἡμῖν τὰς ἁμαρτίας καὶ καθαρίσῃ ἡμᾶς ἀπὸ πάσης ἀδικίας. \n",
      "1_John 1:10\n",
      "\t\t ἐὰν εἴπωμεν ὅτι οὐχ ἡμαρτήκαμεν, ψεύστην ποιοῦμεν αὐτὸν καὶ ὁ λόγος αὐτοῦ οὐκ ἔστιν ἐν ἡμῖν. \n",
      "1_John 2:1\n",
      "\t\t Τεκνία μου, ταῦτα γράφω ὑμῖν ἵνα μὴ ἁμάρτητε. καὶ ἐάν τις ἁμάρτῃ, παράκλητον ἔχομεν πρὸς τὸν πατέρα, Ἰησοῦν Χριστὸν δίκαιον· \n",
      "1_John 2:2\n",
      "\t\t καὶ αὐτὸς ἱλασμός ἐστιν περὶ τῶν ἁμαρτιῶν ἡμῶν, οὐ περὶ τῶν ἡμετέρων δὲ μόνον ἀλλὰ καὶ περὶ ὅλου τοῦ κόσμου. \n",
      "1_John 2:3\n",
      "\t\t καὶ ἐν τούτῳ γινώσκομεν ὅτι ἐγνώκαμεν αὐτόν, ἐὰν τὰς ἐντολὰς αὐτοῦ τηρῶμεν. \n",
      "1_John 2:4\n",
      "\t\t ὁ λέγων ὅτι ἔγνωκα αὐτόν, καὶ τὰς ἐντολὰς αὐτοῦ μὴ τηρῶν, ψεύστης ἐστίν, καὶ ἐν τούτῳ ἡ ἀλήθεια οὐκ ἔστιν· \n",
      "1_John 2:5\n",
      "\t\t ὃς δ’ ἂν τηρῇ αὐτοῦ τὸν λόγον, ἀληθῶς ἐν τούτῳ ἡ ἀγάπη τοῦ θεοῦ τετελείωται. ἐν τούτῳ γινώσκομεν ὅτι ἐν αὐτῷ ἐσμεν· \n",
      "1_John 2:6\n",
      "\t\t ὁ λέγων ἐν αὐτῷ μένειν ὀφείλει καθὼς ἐκεῖνος περιεπάτησεν καὶ αὐτὸς οὕτως περιπατεῖν. \n",
      "1_John 2:7\n",
      "\t\t Ἀγαπητοί, οὐκ ἐντολὴν καινὴν γράφω ὑμῖν, ἀλλ’ ἐντολὴν παλαιὰν ἣν εἴχετε ἀπ’ ἀρχῆς· ἡ ἐντολὴ ἡ παλαιά ἐστιν ὁ λόγος ὃν ἠκούσατε. \n",
      "1_John 2:8\n",
      "\t\t πάλιν ἐντολὴν καινὴν γράφω ὑμῖν, ὅ ἐστιν ἀληθὲς ἐν αὐτῷ καὶ ἐν ὑμῖν, ὅτι ἡ σκοτία παράγεται καὶ τὸ φῶς τὸ ἀληθινὸν ἤδη φαίνει. \n",
      "1_John 2:9\n",
      "\t\t ὁ λέγων ἐν τῷ φωτὶ εἶναι καὶ τὸν ἀδελφὸν αὐτοῦ μισῶν ἐν τῇ σκοτίᾳ ἐστὶν ἕως ἄρτι. \n",
      "1_John 2:10\n",
      "\t\t ὁ ἀγαπῶν τὸν ἀδελφὸν αὐτοῦ ἐν τῷ φωτὶ μένει, καὶ σκάνδαλον οὐκ ἔστιν ἐν αὐτῷ· \n",
      "1_John 2:11\n",
      "\t\t ὁ δὲ μισῶν τὸν ἀδελφὸν αὐτοῦ ἐν τῇ σκοτίᾳ ἐστὶν καὶ ἐν τῇ σκοτίᾳ περιπατεῖ, καὶ οὐκ οἶδεν ποῦ ὑπάγει, ὅτι ἡ σκοτία ἐτύφλωσεν τοὺς ὀφθαλμοὺς αὐτοῦ. \n",
      "1_John 2:12\n",
      "\t\t Γράφω ὑμῖν, τεκνία, ὅτι ἀφέωνται ὑμῖν αἱ ἁμαρτίαι διὰ τὸ ὄνομα αὐτοῦ. \n",
      "1_John 2:13\n",
      "\t\t γράφω ὑμῖν, πατέρες, ὅτι ἐγνώκατε τὸν ἀπ’ ἀρχῆς. γράφω ὑμῖν, νεανίσκοι, ὅτι νενικήκατε τὸν πονηρόν. ἔγραψα ὑμῖν, παιδία, ὅτι ἐγνώκατε τὸν πατέρα. \n",
      "1_John 2:14\n",
      "\t\t ἔγραψα ὑμῖν, πατέρες, ὅτι ἐγνώκατε τὸν ἀπ’ ἀρχῆς. ἔγραψα ὑμῖν, νεανίσκοι, ὅτι ἰσχυροί ἐστε καὶ ὁ λόγος τοῦ θεοῦ ἐν ὑμῖν μένει καὶ νενικήκατε τὸν πονηρόν. \n",
      "1_John 2:15\n",
      "\t\t μὴ ἀγαπᾶτε τὸν κόσμον μηδὲ τὰ ἐν τῷ κόσμῳ. ἐάν τις ἀγαπᾷ τὸν κόσμον, οὐκ ἔστιν ἡ ἀγάπη τοῦ πατρὸς ἐν αὐτῷ· \n",
      "1_John 2:16\n",
      "\t\t ὅτι πᾶν τὸ ἐν τῷ κόσμῳ, ἡ ἐπιθυμία τῆς σαρκὸς καὶ ἡ ἐπιθυμία τῶν ὀφθαλμῶν καὶ ἡ ἀλαζονία τοῦ βίου, οὐκ ἔστιν ἐκ τοῦ πατρὸς ἀλλ’ ἐκ τοῦ κόσμου ἐστίν. \n",
      "1_John 2:17\n",
      "\t\t καὶ ὁ κόσμος παράγεται καὶ ἡ ἐπιθυμία αὐτοῦ, ὁ δὲ ποιῶν τὸ θέλημα τοῦ θεοῦ μένει εἰς τὸν αἰῶνα. \n",
      "1_John 2:18\n",
      "\t\t Παιδία, ἐσχάτη ὥρα ἐστίν, καὶ καθὼς ἠκούσατε ὅτι ἀντίχριστος ἔρχεται, καὶ νῦν ἀντίχριστοι πολλοὶ γεγόνασιν· ὅθεν γινώσκομεν ὅτι ἐσχάτη ὥρα ἐστίν. \n",
      "1_John 2:19\n",
      "\t\t ἐξ ἡμῶν ἐξῆλθαν, ἀλλ’ οὐκ ἦσαν ἐξ ἡμῶν· εἰ γὰρ ἦσαν ἐξ ἡμῶν, μεμενήκεισαν ἂν μεθ’ ἡμῶν· ἀλλ’ ἵνα φανερωθῶσιν ὅτι οὐκ εἰσὶν πάντες ἐξ ἡμῶν. \n",
      "1_John 2:20\n",
      "\t\t καὶ ὑμεῖς χρῖσμα ἔχετε ἀπὸ τοῦ ἁγίου, καὶ οἴδατε πάντες. \n",
      "1_John 2:21\n",
      "\t\t οὐκ ἔγραψα ὑμῖν ὅτι οὐκ οἴδατε τὴν ἀλήθειαν, ἀλλ’ ὅτι οἴδατε αὐτήν, καὶ ὅτι πᾶν ψεῦδος ἐκ τῆς ἀληθείας οὐκ ἔστιν. \n",
      "1_John 2:22\n",
      "\t\t τίς ἐστιν ὁ ψεύστης εἰ μὴ ὁ ἀρνούμενος ὅτι Ἰησοῦς οὐκ ἔστιν ὁ Χριστός; οὗτός ἐστιν ὁ ἀντίχριστος, ὁ ἀρνούμενος τὸν πατέρα καὶ τὸν υἱόν. \n",
      "1_John 2:23\n",
      "\t\t πᾶς ὁ ἀρνούμενος τὸν υἱὸν οὐδὲ τὸν πατέρα ἔχει· ὁ ὁμολογῶν τὸν υἱὸν καὶ τὸν πατέρα ἔχει. \n",
      "1_John 2:24\n",
      "\t\t ὑμεῖς ὃ ἠκούσατε ἀπ’ ἀρχῆς ἐν ὑμῖν μενέτω· ἐὰν ἐν ὑμῖν μείνῃ ὃ ἀπ’ ἀρχῆς ἠκούσατε, καὶ ὑμεῖς ἐν τῷ υἱῷ καὶ ἐν τῷ πατρὶ μενεῖτε. \n",
      "1_John 2:25\n",
      "\t\t καὶ αὕτη ἐστὶν ἡ ἐπαγγελία ἣν αὐτὸς ἐπηγγείλατο ἡμῖν, τὴν ζωὴν τὴν αἰώνιον. \n",
      "1_John 2:26\n",
      "\t\t Ταῦτα ἔγραψα ὑμῖν περὶ τῶν πλανώντων ὑμᾶς. \n",
      "1_John 2:27\n",
      "\t\t καὶ ὑμεῖς τὸ χρῖσμα ὃ ἐλάβετε ἀπ’ αὐτοῦ μένει ἐν ὑμῖν, καὶ οὐ χρείαν ἔχετε ἵνα τις διδάσκῃ ὑμᾶς· ἀλλ’ ὡς τὸ αὐτοῦ χρῖσμα διδάσκει ὑμᾶς περὶ πάντων, καὶ ἀληθές ἐστιν καὶ οὐκ ἔστιν ψεῦδος, καὶ καθὼς ἐδίδαξεν ὑμᾶς, μένετε ἐν αὐτῷ. \n",
      "1_John 2:28\n",
      "\t\t Καὶ νῦν, τεκνία, μένετε ἐν αὐτῷ, ἵνα ἐὰν φανερωθῇ σχῶμεν παρρησίαν καὶ μὴ αἰσχυνθῶμεν ἀπ’ αὐτοῦ ἐν τῇ παρουσίᾳ αὐτοῦ. \n",
      "1_John 2:29\n",
      "\t\t ἐὰν εἰδῆτε ὅτι δίκαιός ἐστιν, γινώσκετε ὅτι καὶ πᾶς ὁ ποιῶν τὴν δικαιοσύνην ἐξ αὐτοῦ γεγέννηται. \n",
      "1_John 3:1\n",
      "\t\t Ἴδετε ποταπὴν ἀγάπην δέδωκεν ἡμῖν ὁ πατὴρ ἵνα τέκνα θεοῦ κληθῶμεν· καὶ ἐσμέν. διὰ τοῦτο ὁ κόσμος οὐ γινώσκει ἡμᾶς ὅτι οὐκ ἔγνω αὐτόν. \n",
      "1_John 3:2\n",
      "\t\t Ἀγαπητοί, νῦν τέκνα θεοῦ ἐσμεν, καὶ οὔπω ἐφανερώθη τί ἐσόμεθα. οἴδαμεν ὅτι ἐὰν φανερωθῇ ὅμοιοι αὐτῷ ἐσόμεθα, ὅτι ὀψόμεθα αὐτὸν καθώς ἐστιν. \n",
      "1_John 3:3\n",
      "\t\t καὶ πᾶς ὁ ἔχων τὴν ἐλπίδα ταύτην ἐπ’ αὐτῷ ἁγνίζει ἑαυτὸν καθὼς ἐκεῖνος ἁγνός ἐστιν. \n",
      "1_John 3:4\n",
      "\t\t πᾶς ὁ ποιῶν τὴν ἁμαρτίαν καὶ τὴν ἀνομίαν ποιεῖ, καὶ ἡ ἁμαρτία ἐστὶν ἡ ἀνομία. \n",
      "1_John 3:5\n",
      "\t\t καὶ οἴδατε ὅτι ἐκεῖνος ἐφανερώθη ἵνα τὰς ἁμαρτίας ἄρῃ, καὶ ἁμαρτία ἐν αὐτῷ οὐκ ἔστιν. \n",
      "1_John 3:6\n",
      "\t\t πᾶς ὁ ἐν αὐτῷ μένων οὐχ ἁμαρτάνει· πᾶς ὁ ἁμαρτάνων οὐχ ἑώρακεν αὐτὸν οὐδὲ ἔγνωκεν αὐτόν. \n",
      "1_John 3:7\n",
      "\t\t Τεκνία, μηδεὶς πλανάτω ὑμᾶς· ὁ ποιῶν τὴν δικαιοσύνην δίκαιός ἐστιν, καθὼς ἐκεῖνος δίκαιός ἐστιν· \n",
      "1_John 3:8\n",
      "\t\t ὁ ποιῶν τὴν ἁμαρτίαν ἐκ τοῦ διαβόλου ἐστίν, ὅτι ἀπ’ ἀρχῆς ὁ διάβολος ἁμαρτάνει. εἰς τοῦτο ἐφανερώθη ὁ υἱὸς τοῦ θεοῦ, ἵνα λύσῃ τὰ ἔργα τοῦ διαβόλου. \n",
      "1_John 3:9\n",
      "\t\t πᾶς ὁ γεγεννημένος ἐκ τοῦ θεοῦ ἁμαρτίαν οὐ ποιεῖ, ὅτι σπέρμα αὐτοῦ ἐν αὐτῷ μένει· καὶ οὐ δύναται ἁμαρτάνειν, ὅτι ἐκ τοῦ θεοῦ γεγέννηται. \n",
      "1_John 3:10\n",
      "\t\t ἐν τούτῳ φανερά ἐστιν τὰ τέκνα τοῦ θεοῦ καὶ τὰ τέκνα τοῦ διαβόλου· πᾶς ὁ μὴ ποιῶν δικαιοσύνην οὐκ ἔστιν ἐκ τοῦ θεοῦ, καὶ ὁ μὴ ἀγαπῶν τὸν ἀδελφὸν αὐτοῦ. \n",
      "1_John 3:11\n",
      "\t\t ὅτι αὕτη ἐστὶν ἡ ἀγγελία ἣν ἠκούσατε ἀπ’ ἀρχῆς, ἵνα ἀγαπῶμεν ἀλλήλους· \n",
      "1_John 3:12\n",
      "\t\t οὐ καθὼς Κάϊν ἐκ τοῦ πονηροῦ ἦν καὶ ἔσφαξεν τὸν ἀδελφὸν αὐτοῦ· καὶ χάριν τίνος ἔσφαξεν αὐτόν; ὅτι τὰ ἔργα αὐτοῦ πονηρὰ ἦν, τὰ δὲ τοῦ ἀδελφοῦ αὐτοῦ δίκαια. \n",
      "1_John 3:13\n",
      "\t\t Καὶ μὴ θαυμάζετε, ἀδελφοί, εἰ μισεῖ ὑμᾶς ὁ κόσμος. \n",
      "1_John 3:14\n",
      "\t\t ἡμεῖς οἴδαμεν ὅτι μεταβεβήκαμεν ἐκ τοῦ θανάτου εἰς τὴν ζωήν, ὅτι ἀγαπῶμεν τοὺς ἀδελφούς· ὁ μὴ ἀγαπῶν μένει ἐν τῷ θανάτῳ. \n",
      "1_John 3:15\n",
      "\t\t πᾶς ὁ μισῶν τὸν ἀδελφὸν αὐτοῦ ἀνθρωποκτόνος ἐστίν, καὶ οἴδατε ὅτι πᾶς ἀνθρωποκτόνος οὐκ ἔχει ζωὴν αἰώνιον ἐν ἑαυτῷ μένουσαν. \n",
      "1_John 3:16\n",
      "\t\t ἐν τούτῳ ἐγνώκαμεν τὴν ἀγάπην, ὅτι ἐκεῖνος ὑπὲρ ὑμῶν τὴν ψυχὴν αὐτοῦ ἔθηκεν· καὶ ἡμεῖς ὀφείλομεν ὑπὲρ τῶν ἀδελφῶν τὰς ψυχὰς θεῖναι. \n",
      "1_John 3:17\n",
      "\t\t ὃς δ’ ἂν ἔχῃ τὸν βίον τοῦ κόσμου καὶ θεωρῇ τὸν ἀδελφὸν αὐτοῦ χρείαν ἔχοντα καὶ κλείσῃ τὰ σπλάγχνα αὐτοῦ ἀπ’ αὐτοῦ, πῶς ἡ ἀγάπη τοῦ θεοῦ μένει ἐν αὐτῷ; \n",
      "1_John 3:18\n",
      "\t\t Τεκνία, μὴ ἀγαπῶμεν λόγῳ μηδὲ τῇ γλώσσῃ ἀλλὰ ἐν ἔργῳ καὶ ἀληθείᾳ. \n",
      "1_John 3:19\n",
      "\t\t καὶ ἐν τούτῳ γνωσόμεθα ὅτι ἐκ τῆς ἀληθείας ἐσμέν, καὶ ἔμπροσθεν αὐτοῦ πείσομεν τὰς καρδίας ἡμῶν· \n",
      "1_John 3:20\n",
      "\t\t ὅτι ἐὰν καταγινώσκῃ ἡμῶν ἡ καρδία, ὅτι μείζων ἐστὶν ὁ θεὸς τῆς καρδίας ἡμῶν καὶ γινώσκει πάντα. \n",
      "1_John 3:21\n",
      "\t\t Ἀγαπητοί, ἐὰν ἡ καρδία ἡμῶν μὴ καταγινώσκῃ ἡμῶν, παρρησίαν ἔχομεν πρὸς τὸν θεόν, \n",
      "1_John 3:22\n",
      "\t\t καὶ ὃ ἐὰν αἰτῶμεν λαμβάνομεν ἀπ’ αὐτοῦ, ὅτι τὰς ἐντολὰς αὐτοῦ τηροῦμεν καὶ τὰ ἀρεστὰ ἐνώπιον αὐτοῦ ποιοῦμεν. \n",
      "1_John 3:23\n",
      "\t\t καὶ αὕτη ἐστὶν ἡ ἐντολὴ αὐτοῦ, ἵνα πιστεύσωμεν τῷ ὀνόματι τοῦ υἱοῦ αὐτοῦ Ἰησοῦ Χριστοῦ καὶ ἀγαπῶμεν ἀλλήλους, καθὼς ἔδωκεν ἐντολὴν ἡμῖν. \n",
      "1_John 3:24\n",
      "\t\t καὶ ὁ τηρῶν τὰς ἐντολὰς αὐτοῦ ἐν αὐτῷ μένει καὶ αὐτὸς ἐν αὐτῷ· καὶ ἐν τούτῳ γινώσκομεν ὅτι μένει ἐν ἡμῖν, ἐκ τοῦ πνεύματος οὗ ἡμῖν ἔδωκεν. \n",
      "1_John 4:1\n",
      "\t\t Ἀγαπητοί, μὴ παντὶ πνεύματι πιστεύετε, ἀλλὰ δοκιμάζετε τὰ πνεύματα εἰ ἐκ τοῦ θεοῦ ἐστιν, ὅτι πολλοὶ ψευδοπροφῆται ἐξεληλύθασιν εἰς τὸν κόσμον. \n",
      "1_John 4:2\n",
      "\t\t ἐν τούτῳ γινώσκετε τὸ πνεῦμα τοῦ θεοῦ· πᾶν πνεῦμα ὃ ὁμολογεῖ Ἰησοῦν Χριστὸν ἐν σαρκὶ ἐληλυθότα ἐκ τοῦ θεοῦ ἐστιν, \n",
      "1_John 4:3\n",
      "\t\t καὶ πᾶν πνεῦμα ὃ μὴ ὁμολογεῖ τὸν Ἰησοῦν ἐκ τοῦ θεοῦ οὐκ ἔστιν· καὶ τοῦτό ἐστιν τὸ τοῦ ἀντιχρίστου, ὃ ἀκηκόατε ὅτι ἔρχεται, καὶ νῦν ἐν τῷ κόσμῳ ἐστὶν ἤδη. \n",
      "1_John 4:4\n",
      "\t\t Ὑμεῖς ἐκ τοῦ θεοῦ ἐστέ, τεκνία, καὶ νενικήκατε αὐτούς, ὅτι μείζων ἐστὶν ὁ ἐν ὑμῖν ἢ ὁ ἐν τῷ κόσμῳ. \n",
      "1_John 4:5\n",
      "\t\t αὐτοὶ ἐκ τοῦ κόσμου εἰσίν· διὰ τοῦτο ἐκ τοῦ κόσμου λαλοῦσιν καὶ ὁ κόσμος αὐτῶν ἀκούει. \n",
      "1_John 4:6\n",
      "\t\t ἡμεῖς ἐκ τοῦ θεοῦ ἐσμεν· ὁ γινώσκων τὸν θεὸν ἀκούει ἡμῶν, ὃς οὐκ ἔστιν ἐκ τοῦ θεοῦ οὐκ ἀκούει ἡμῶν. ἐκ τούτου γινώσκομεν τὸ πνεῦμα τῆς ἀληθείας καὶ τὸ πνεῦμα τῆς πλάνης. \n",
      "1_John 4:7\n",
      "\t\t Ἀγαπητοί, ἀγαπῶμεν ἀλλήλους, ὅτι ἡ ἀγάπη ἐκ τοῦ θεοῦ ἐστιν, καὶ πᾶς ὁ ἀγαπῶν ἐκ τοῦ θεοῦ γεγέννηται καὶ γινώσκει τὸν θεόν. \n",
      "1_John 4:8\n",
      "\t\t ὁ μὴ ἀγαπῶν οὐκ ἔγνω τὸν θεόν, ὅτι ὁ θεὸς ἀγάπη ἐστίν. \n",
      "1_John 4:9\n",
      "\t\t ἐν τούτῳ ἐφανερώθη ἡ ἀγάπη τοῦ θεοῦ ἐν ἡμῖν, ὅτι τὸν υἱὸν αὐτοῦ τὸν μονογενῆ ἀπέσταλκεν ὁ θεὸς εἰς τὸν κόσμον ἵνα ζήσωμεν δι’ αὐτοῦ. \n",
      "1_John 4:10\n",
      "\t\t ἐν τούτῳ ἐστὶν ἡ ἀγάπη, οὐχ ὅτι ἡμεῖς ἠγαπήσαμεν τὸν θεόν, ἀλλ’ ὅτι αὐτὸς ἠγάπησεν ἡμᾶς καὶ ἀπέστειλεν τὸν υἱὸν αὐτοῦ ἱλασμὸν περὶ τῶν ἁμαρτιῶν ἡμῶν. \n",
      "1_John 4:11\n",
      "\t\t Ἀγαπητοί, εἰ οὕτως ὁ θεὸς ἠγάπησεν ἡμᾶς, καὶ ἡμεῖς ὀφείλομεν ἀλλήλους ἀγαπᾶν. \n",
      "1_John 4:12\n",
      "\t\t θεὸν οὐδεὶς πώποτε τεθέαται· ἐὰν ἀγαπῶμεν ἀλλήλους, ὁ θεὸς ἐν ἡμῖν μένει καὶ ἡ ἀγάπη αὐτοῦ τετελειωμένη ἐν ἡμῖν ἐστιν. \n",
      "1_John 4:13\n",
      "\t\t ἐν τούτῳ γινώσκομεν ὅτι ἐν αὐτῷ μένομεν καὶ αὐτὸς ἐν ἡμῖν, ὅτι ἐκ τοῦ πνεύματος αὐτοῦ δέδωκεν ἡμῖν. \n",
      "1_John 4:14\n",
      "\t\t καὶ ἡμεῖς τεθεάμεθα καὶ μαρτυροῦμεν ὅτι ὁ πατὴρ ἀπέσταλκεν τὸν υἱὸν σωτῆρα τοῦ κόσμου. \n",
      "1_John 4:15\n",
      "\t\t ὃς ἂν ὁμολογήσῃ ὅτι Ἰησοῦς ἐστιν ὁ υἱὸς τοῦ θεοῦ, ὁ θεὸς ἐν αὐτῷ μένει καὶ αὐτὸς ἐν τῷ θεῷ. \n",
      "1_John 4:16\n",
      "\t\t καὶ ἡμεῖς ἐγνώκαμεν καὶ πεπιστεύκαμεν τὴν ἀγάπην ἣν ἔχει ὁ θεὸς ἐν ἡμῖν. ὁ θεὸς ἀγάπη ἐστίν, καὶ ὁ μένων ἐν τῇ ἀγάπῃ ἐν τῷ θεῷ μένει καὶ ὁ θεὸς ἐν αὐτῷ μένει. \n",
      "1_John 4:17\n",
      "\t\t Ἐν τούτῳ τετελείωται ἡ ἀγάπη μεθ’ ἡμῶν, ἵνα παρρησίαν ἔχωμεν ἐν τῇ ἡμέρᾳ τῆς κρίσεως, ὅτι καθὼς ἐκεῖνός ἐστιν καὶ ἡμεῖς ἐσμεν ἐν τῷ κόσμῳ τούτῳ. \n",
      "1_John 4:18\n",
      "\t\t φόβος οὐκ ἔστιν ἐν τῇ ἀγάπῃ, ἀλλ’ ἡ τελεία ἀγάπη ἔξω βάλλει τὸν φόβον, ὅτι ὁ φόβος κόλασιν ἔχει, ὁ δὲ φοβούμενος οὐ τετελείωται ἐν τῇ ἀγάπῃ. \n",
      "1_John 4:19\n",
      "\t\t ἡμεῖς ἀγαπῶμεν, ὅτι αὐτὸς πρῶτος ἠγάπησεν ἡμᾶς. \n",
      "1_John 4:20\n",
      "\t\t ἐάν τις εἴπῃ ὅτι ἀγαπῶ τὸν θεόν, καὶ τὸν ἀδελφὸν αὐτοῦ μισῇ, Ψεύστης ἐστίν· ὁ γὰρ μὴ ἀγαπῶν τὸν ἀδελφὸν αὐτοῦ ὃν ἑώρακεν, τὸν θεὸν ὃν οὐχ ἑώρακεν οὐ δύναται ἀγαπᾶν. \n",
      "1_John 4:21\n",
      "\t\t καὶ ταύτην τὴν ἐντολὴν ἔχομεν ἀπ’ αὐτοῦ, ἵνα ὁ ἀγαπῶν τὸν θεὸν ἀγαπᾷ καὶ τὸν ἀδελφὸν αὐτοῦ. \n",
      "1_John 5:1\n",
      "\t\t Πᾶς ὁ πιστεύων ὅτι Ἰησοῦς ἐστιν ὁ Χριστὸς ἐκ τοῦ θεοῦ γεγέννηται, καὶ πᾶς ὁ ἀγαπῶν τὸν γεννήσαντα ἀγαπᾷ καὶ τὸν γεγεννημένον ἐξ αὐτοῦ. \n",
      "1_John 5:2\n",
      "\t\t ἐν τούτῳ γινώσκομεν ὅτι ἀγαπῶμεν τὰ τέκνα τοῦ θεοῦ, ὅταν τὸν θεὸν ἀγαπῶμεν καὶ τὰς ἐντολὰς αὐτοῦ ποιῶμεν. \n",
      "1_John 5:3\n",
      "\t\t αὕτη γάρ ἐστιν ἡ ἀγάπη τοῦ θεοῦ, ἵνα τὰς ἐντολὰς αὐτοῦ τηρῶμεν· καὶ αἱ ἐντολαὶ αὐτοῦ βαρεῖαι οὐκ εἰσίν, \n",
      "1_John 5:4\n",
      "\t\t ὅτι πᾶν τὸ γεγεννημένον ἐκ τοῦ θεοῦ νικᾷ τὸν κόσμον· καὶ αὕτη ἐστὶν ἡ νίκη ἡ νικήσασα τὸν κόσμον, ἡ πίστις ἡμῶν. \n",
      "1_John 5:5\n",
      "\t\t τίς ἐστιν ὁ νικῶν τὸν κόσμον εἰ μὴ ὁ πιστεύων ὅτι Ἰησοῦς ἐστιν ὁ υἱὸς τοῦ θεοῦ; \n",
      "1_John 5:6\n",
      "\t\t Οὗτός ἐστιν ὁ ἐλθὼν δι’ ὕδατος καὶ αἵματος, Ἰησοῦς Χριστός· οὐκ ἐν τῷ ὕδατι μόνον ἀλλ’ ἐν τῷ ὕδατι καὶ ἐν τῷ αἵματι· καὶ τὸ πνεῦμά ἐστιν τὸ μαρτυροῦν, ὅτι τὸ πνεῦμά ἐστιν ἡ ἀλήθεια. \n",
      "1_John 5:7\n",
      "\t\t ὅτι τρεῖς εἰσιν οἱ μαρτυροῦντες, \n",
      "1_John 5:8\n",
      "\t\t τὸ πνεῦμα καὶ τὸ ὕδωρ καὶ τὸ αἷμα, καὶ οἱ τρεῖς εἰς τὸ ἕν εἰσιν. \n",
      "1_John 5:9\n",
      "\t\t εἰ τὴν μαρτυρίαν τῶν ἀνθρώπων λαμβάνομεν, ἡ μαρτυρία τοῦ θεοῦ μείζων ἐστίν, ὅτι αὕτη ἐστὶν ἡ μαρτυρία τοῦ θεοῦ, ὅτι μεμαρτύρηκεν περὶ τοῦ υἱοῦ αὐτοῦ. \n",
      "1_John 5:10\n",
      "\t\t ὁ πιστεύων εἰς τὸν υἱὸν τοῦ θεοῦ ἔχει τὴν μαρτυρίαν ἐν αὐτῷ· ὁ μὴ πιστεύων τῷ θεῷ ψεύστην πεποίηκεν αὐτόν, ὅτι οὐ πεπίστευκεν εἰς τὴν μαρτυρίαν ἣν μεμαρτύρηκεν ὁ θεὸς περὶ τοῦ υἱοῦ αὐτοῦ. \n",
      "1_John 5:11\n",
      "\t\t καὶ αὕτη ἐστὶν ἡ μαρτυρία, ὅτι ζωὴν αἰώνιον ἔδωκεν ἡμῖν ὁ θεός, καὶ αὕτη ἡ ζωὴ ἐν τῷ υἱῷ αὐτοῦ ἐστιν. \n",
      "1_John 5:12\n",
      "\t\t ὁ ἔχων τὸν υἱὸν ἔχει τὴν ζωήν· ὁ μὴ ἔχων τὸν υἱὸν τοῦ θεοῦ τὴν ζωὴν οὐκ ἔχει. \n",
      "1_John 5:13\n",
      "\t\t Ταῦτα ἔγραψα ὑμῖν ἵνα εἰδῆτε ὅτι ζωὴν ἔχετε αἰώνιον, τοῖς πιστεύουσιν εἰς τὸ ὄνομα τοῦ υἱοῦ τοῦ θεοῦ. \n",
      "1_John 5:14\n",
      "\t\t καὶ αὕτη ἐστὶν ἡ παρρησία ἣν ἔχομεν πρὸς αὐτόν, ὅτι ἐάν τι αἰτώμεθα κατὰ τὸ θέλημα αὐτοῦ ἀκούει ἡμῶν. \n",
      "1_John 5:15\n",
      "\t\t καὶ ἐὰν οἴδαμεν ὅτι ἀκούει ἡμῶν ὃ ἐὰν αἰτώμεθα, οἴδαμεν ὅτι ἔχομεν τὰ αἰτήματα ἃ ᾐτήκαμεν ἀπ’ αὐτοῦ. \n",
      "1_John 5:16\n",
      "\t\t ἐάν τις ἴδῃ τὸν ἀδελφὸν αὐτοῦ ἁμαρτάνοντα ἁμαρτίαν μὴ πρὸς θάνατον, αἰτήσει, καὶ δώσει αὐτῷ ζωήν, τοῖς ἁμαρτάνουσιν μὴ πρὸς θάνατον. ἔστιν ἁμαρτία πρὸς θάνατον· οὐ περὶ ἐκείνης λέγω ἵνα ἐρωτήσῃ. \n",
      "1_John 5:17\n",
      "\t\t πᾶσα ἀδικία ἁμαρτία ἐστίν, καὶ ἔστιν ἁμαρτία οὐ πρὸς θάνατον. \n",
      "1_John 5:18\n",
      "\t\t Οἴδαμεν ὅτι πᾶς ὁ γεγεννημένος ἐκ τοῦ θεοῦ οὐχ ἁμαρτάνει, ἀλλ’ ὁ γεννηθεὶς ἐκ τοῦ θεοῦ τηρεῖ αὐτόν, καὶ ὁ πονηρὸς οὐχ ἅπτεται αὐτοῦ. \n",
      "1_John 5:19\n",
      "\t\t οἴδαμεν ὅτι ἐκ τοῦ θεοῦ ἐσμεν, καὶ ὁ κόσμος ὅλος ἐν τῷ πονηρῷ κεῖται. \n",
      "1_John 5:20\n",
      "\t\t οἴδαμεν δὲ ὅτι ὁ υἱὸς τοῦ θεοῦ ἥκει, καὶ δέδωκεν ἡμῖν διάνοιαν ἵνα γινώσκομεν τὸν ἀληθινόν· καὶ ἐσμὲν ἐν τῷ ἀληθινῷ, ἐν τῷ υἱῷ αὐτοῦ Ἰησοῦ Χριστῷ. οὗτός ἐστιν ὁ ἀληθινὸς θεὸς καὶ ζωὴ αἰώνιος. \n",
      "1_John 5:21\n",
      "\t\t Τεκνία, φυλάξατε ἑαυτὰ ἀπὸ τῶν εἰδώλων. \n"
     ]
    }
   ],
   "source": [
    "show_book = T.nodeFromSection(('1_John',))\n",
    "\n",
    "for verse in L.d(show_book, 'verse'):\n",
    "    \n",
    "    print('{} {}:{}'.format(*T.sectionFromNode(verse)))\n",
    "    print('\\t\\t', T.text(verse))"
   ]
  },
  {
   "cell_type": "code",
   "execution_count": 27,
   "metadata": {},
   "outputs": [
    {
     "data": {
      "text/plain": [
       "('2_Corinthians', 11, 17)"
      ]
     },
     "execution_count": 27,
     "metadata": {},
     "output_type": "execute_result"
    }
   ],
   "source": [
    "T.sectionFromNode(100535)"
   ]
  },
  {
   "cell_type": "code",
   "execution_count": 28,
   "metadata": {},
   "outputs": [
    {
     "name": "stdout",
     "output_type": "stream",
     "text": [
      "1_John § 1\n",
      "(1:1) Ὃ ἦν ἀπ’ ἀρχῆς, ὃ ἀκηκόαμεν, ὃ ἑωράκαμεν τοῖς ὀφθαλμοῖς ἡμῶν, ὃ ἐθεασάμεθα καὶ αἱ χεῖρες ἡμῶν ἐψηλάφησαν, περὶ τοῦ λόγου τῆς ζωῆς (1:2) καὶ ἡ ζωὴ ἐφανερώθη, καὶ ἑωράκαμεν καὶ μαρτυροῦμεν καὶ ἀπαγγέλλομεν ὑμῖν τὴν ζωὴν τὴν αἰώνιον ἥτις ἦν πρὸς τὸν πατέρα καὶ ἐφανερώθη ἡμῖν (1:3) ὃ ἑωράκαμεν καὶ ἀκηκόαμεν ἀπαγγέλλομεν καὶ ὑμῖν, ἵνα καὶ ὑμεῖς κοινωνίαν ἔχητε μεθ’ ἡμῶν. καὶ ἡ κοινωνία δὲ ἡ ἡμετέρα μετὰ τοῦ πατρὸς καὶ μετὰ τοῦ υἱοῦ αὐτοῦ Ἰησοῦ Χριστοῦ. (1:4) καὶ ταῦτα γράφομεν ἡμεῖς ἵνα ἡ χαρὰ ἡμῶν ᾖ πεπληρωμένη. \n",
      "\n",
      "1_John § 2\n",
      "(1:5) Καὶ ἔστιν αὕτη ἡ ἀγγελία ἣν ἀκηκόαμεν ἀπ’ αὐτοῦ καὶ ἀναγγέλλομεν ὑμῖν, ὅτι ὁ θεὸς φῶς ἐστιν καὶ σκοτία ἐν αὐτῷ οὐκ ἔστιν οὐδεμία. (1:6) ἐὰν εἴπωμεν ὅτι κοινωνίαν ἔχομεν μετ’ αὐτοῦ καὶ ἐν τῷ σκότει περιπατῶμεν, ψευδόμεθα καὶ οὐ ποιοῦμεν τὴν ἀλήθειαν· (1:7) ἐὰν δὲ ἐν τῷ φωτὶ περιπατῶμεν ὡς αὐτός ἐστιν ἐν τῷ φωτί, κοινωνίαν ἔχομεν μετ’ ἀλλήλων καὶ τὸ αἷμα Ἰησοῦ τοῦ υἱοῦ αὐτοῦ καθαρίζει ἡμᾶς ἀπὸ πάσης ἁμαρτίας. (1:8) ἐὰν εἴπωμεν ὅτι ἁμαρτίαν οὐκ ἔχομεν, ἑαυτοὺς πλανῶμεν καὶ ἡ ἀλήθεια οὐκ ἔστιν ἐν ἡμῖν. (1:9) ἐὰν ὁμολογῶμεν τὰς ἁμαρτίας ἡμῶν, πιστός ἐστιν καὶ δίκαιος ἵνα ἀφῇ ἡμῖν τὰς ἁμαρτίας καὶ καθαρίσῃ ἡμᾶς ἀπὸ πάσης ἀδικίας. (1:10) ἐὰν εἴπωμεν ὅτι οὐχ ἡμαρτήκαμεν, ψεύστην ποιοῦμεν αὐτὸν καὶ ὁ λόγος αὐτοῦ οὐκ ἔστιν ἐν ἡμῖν. (2:1) Τεκνία μου, ταῦτα γράφω ὑμῖν ἵνα μὴ ἁμάρτητε. καὶ ἐάν τις ἁμάρτῃ, παράκλητον ἔχομεν πρὸς τὸν πατέρα, Ἰησοῦν Χριστὸν δίκαιον· (2:2) καὶ αὐτὸς ἱλασμός ἐστιν περὶ τῶν ἁμαρτιῶν ἡμῶν, οὐ περὶ τῶν ἡμετέρων δὲ μόνον ἀλλὰ καὶ περὶ ὅλου τοῦ κόσμου. (2:3) καὶ ἐν τούτῳ γινώσκομεν ὅτι ἐγνώκαμεν αὐτόν, ἐὰν τὰς ἐντολὰς αὐτοῦ τηρῶμεν. (2:4) ὁ λέγων ὅτι ἔγνωκα αὐτόν, καὶ τὰς ἐντολὰς αὐτοῦ μὴ τηρῶν, ψεύστης ἐστίν, καὶ ἐν τούτῳ ἡ ἀλήθεια οὐκ ἔστιν· (2:5) ὃς δ’ ἂν τηρῇ αὐτοῦ τὸν λόγον, ἀληθῶς ἐν τούτῳ ἡ ἀγάπη τοῦ θεοῦ τετελείωται. ἐν τούτῳ γινώσκομεν ὅτι ἐν αὐτῷ ἐσμεν· (2:6) ὁ λέγων ἐν αὐτῷ μένειν ὀφείλει καθὼς ἐκεῖνος περιεπάτησεν καὶ αὐτὸς οὕτως περιπατεῖν. \n",
      "\n",
      "1_John § 3\n",
      "(2:7) Ἀγαπητοί, οὐκ ἐντολὴν καινὴν γράφω ὑμῖν, ἀλλ’ ἐντολὴν παλαιὰν ἣν εἴχετε ἀπ’ ἀρχῆς· ἡ ἐντολὴ ἡ παλαιά ἐστιν ὁ λόγος ὃν ἠκούσατε. (2:8) πάλιν ἐντολὴν καινὴν γράφω ὑμῖν, ὅ ἐστιν ἀληθὲς ἐν αὐτῷ καὶ ἐν ὑμῖν, ὅτι ἡ σκοτία παράγεται καὶ τὸ φῶς τὸ ἀληθινὸν ἤδη φαίνει. (2:9) ὁ λέγων ἐν τῷ φωτὶ εἶναι καὶ τὸν ἀδελφὸν αὐτοῦ μισῶν ἐν τῇ σκοτίᾳ ἐστὶν ἕως ἄρτι. (2:10) ὁ ἀγαπῶν τὸν ἀδελφὸν αὐτοῦ ἐν τῷ φωτὶ μένει, καὶ σκάνδαλον οὐκ ἔστιν ἐν αὐτῷ· (2:11) ὁ δὲ μισῶν τὸν ἀδελφὸν αὐτοῦ ἐν τῇ σκοτίᾳ ἐστὶν καὶ ἐν τῇ σκοτίᾳ περιπατεῖ, καὶ οὐκ οἶδεν ποῦ ὑπάγει, ὅτι ἡ σκοτία ἐτύφλωσεν τοὺς ὀφθαλμοὺς αὐτοῦ. \n",
      "\n",
      "1_John § 4\n",
      "(2:12) Γράφω ὑμῖν, τεκνία, ὅτι ἀφέωνται ὑμῖν αἱ ἁμαρτίαι διὰ τὸ ὄνομα αὐτοῦ. (2:13) γράφω ὑμῖν, πατέρες, ὅτι ἐγνώκατε τὸν ἀπ’ ἀρχῆς. γράφω ὑμῖν, νεανίσκοι, ὅτι νενικήκατε τὸν πονηρόν. ἔγραψα ὑμῖν, παιδία, ὅτι ἐγνώκατε τὸν πατέρα. (2:14) ἔγραψα ὑμῖν, πατέρες, ὅτι ἐγνώκατε τὸν ἀπ’ ἀρχῆς. ἔγραψα ὑμῖν, νεανίσκοι, ὅτι ἰσχυροί ἐστε καὶ ὁ λόγος τοῦ θεοῦ ἐν ὑμῖν μένει καὶ νενικήκατε τὸν πονηρόν. (2:15) μὴ ἀγαπᾶτε τὸν κόσμον μηδὲ τὰ ἐν τῷ κόσμῳ. ἐάν τις ἀγαπᾷ τὸν κόσμον, οὐκ ἔστιν ἡ ἀγάπη τοῦ πατρὸς ἐν αὐτῷ· (2:16) ὅτι πᾶν τὸ ἐν τῷ κόσμῳ, ἡ ἐπιθυμία τῆς σαρκὸς καὶ ἡ ἐπιθυμία τῶν ὀφθαλμῶν καὶ ἡ ἀλαζονία τοῦ βίου, οὐκ ἔστιν ἐκ τοῦ πατρὸς ἀλλ’ ἐκ τοῦ κόσμου ἐστίν. (2:17) καὶ ὁ κόσμος παράγεται καὶ ἡ ἐπιθυμία αὐτοῦ, ὁ δὲ ποιῶν τὸ θέλημα τοῦ θεοῦ μένει εἰς τὸν αἰῶνα. \n",
      "\n",
      "1_John § 5\n",
      "(2:18) Παιδία, ἐσχάτη ὥρα ἐστίν, καὶ καθὼς ἠκούσατε ὅτι ἀντίχριστος ἔρχεται, καὶ νῦν ἀντίχριστοι πολλοὶ γεγόνασιν· ὅθεν γινώσκομεν ὅτι ἐσχάτη ὥρα ἐστίν. (2:19) ἐξ ἡμῶν ἐξῆλθαν, ἀλλ’ οὐκ ἦσαν ἐξ ἡμῶν· εἰ γὰρ ἦσαν ἐξ ἡμῶν, μεμενήκεισαν ἂν μεθ’ ἡμῶν· ἀλλ’ ἵνα φανερωθῶσιν ὅτι οὐκ εἰσὶν πάντες ἐξ ἡμῶν. (2:20) καὶ ὑμεῖς χρῖσμα ἔχετε ἀπὸ τοῦ ἁγίου, καὶ οἴδατε πάντες. (2:21) οὐκ ἔγραψα ὑμῖν ὅτι οὐκ οἴδατε τὴν ἀλήθειαν, ἀλλ’ ὅτι οἴδατε αὐτήν, καὶ ὅτι πᾶν ψεῦδος ἐκ τῆς ἀληθείας οὐκ ἔστιν. (2:22) τίς ἐστιν ὁ ψεύστης εἰ μὴ ὁ ἀρνούμενος ὅτι Ἰησοῦς οὐκ ἔστιν ὁ Χριστός; οὗτός ἐστιν ὁ ἀντίχριστος, ὁ ἀρνούμενος τὸν πατέρα καὶ τὸν υἱόν. (2:23) πᾶς ὁ ἀρνούμενος τὸν υἱὸν οὐδὲ τὸν πατέρα ἔχει· ὁ ὁμολογῶν τὸν υἱὸν καὶ τὸν πατέρα ἔχει. (2:24) ὑμεῖς ὃ ἠκούσατε ἀπ’ ἀρχῆς ἐν ὑμῖν μενέτω· ἐὰν ἐν ὑμῖν μείνῃ ὃ ἀπ’ ἀρχῆς ἠκούσατε, καὶ ὑμεῖς ἐν τῷ υἱῷ καὶ ἐν τῷ πατρὶ μενεῖτε. (2:25) καὶ αὕτη ἐστὶν ἡ ἐπαγγελία ἣν αὐτὸς ἐπηγγείλατο ἡμῖν, τὴν ζωὴν τὴν αἰώνιον. \n",
      "\n",
      "1_John § 6\n",
      "(2:26) Ταῦτα ἔγραψα ὑμῖν περὶ τῶν πλανώντων ὑμᾶς. (2:27) καὶ ὑμεῖς τὸ χρῖσμα ὃ ἐλάβετε ἀπ’ αὐτοῦ μένει ἐν ὑμῖν, καὶ οὐ χρείαν ἔχετε ἵνα τις διδάσκῃ ὑμᾶς· ἀλλ’ ὡς τὸ αὐτοῦ χρῖσμα διδάσκει ὑμᾶς περὶ πάντων, καὶ ἀληθές ἐστιν καὶ οὐκ ἔστιν ψεῦδος, καὶ καθὼς ἐδίδαξεν ὑμᾶς, μένετε ἐν αὐτῷ. (2:28) Καὶ νῦν, τεκνία, μένετε ἐν αὐτῷ, ἵνα ἐὰν φανερωθῇ σχῶμεν παρρησίαν καὶ μὴ αἰσχυνθῶμεν ἀπ’ αὐτοῦ ἐν τῇ παρουσίᾳ αὐτοῦ. (2:29) ἐὰν εἰδῆτε ὅτι δίκαιός ἐστιν, γινώσκετε ὅτι καὶ πᾶς ὁ ποιῶν τὴν δικαιοσύνην ἐξ αὐτοῦ γεγέννηται. (3:1) Ἴδετε ποταπὴν ἀγάπην δέδωκεν ἡμῖν ὁ πατὴρ ἵνα τέκνα θεοῦ κληθῶμεν· καὶ ἐσμέν. διὰ τοῦτο ὁ κόσμος οὐ γινώσκει ἡμᾶς ὅτι οὐκ ἔγνω αὐτόν. \n",
      "\n",
      "1_John § 7\n",
      "(3:2) Ἀγαπητοί, νῦν τέκνα θεοῦ ἐσμεν, καὶ οὔπω ἐφανερώθη τί ἐσόμεθα. οἴδαμεν ὅτι ἐὰν φανερωθῇ ὅμοιοι αὐτῷ ἐσόμεθα, ὅτι ὀψόμεθα αὐτὸν καθώς ἐστιν. (3:3) καὶ πᾶς ὁ ἔχων τὴν ἐλπίδα ταύτην ἐπ’ αὐτῷ ἁγνίζει ἑαυτὸν καθὼς ἐκεῖνος ἁγνός ἐστιν. (3:4) πᾶς ὁ ποιῶν τὴν ἁμαρτίαν καὶ τὴν ἀνομίαν ποιεῖ, καὶ ἡ ἁμαρτία ἐστὶν ἡ ἀνομία. (3:5) καὶ οἴδατε ὅτι ἐκεῖνος ἐφανερώθη ἵνα τὰς ἁμαρτίας ἄρῃ, καὶ ἁμαρτία ἐν αὐτῷ οὐκ ἔστιν. (3:6) πᾶς ὁ ἐν αὐτῷ μένων οὐχ ἁμαρτάνει· πᾶς ὁ ἁμαρτάνων οὐχ ἑώρακεν αὐτὸν οὐδὲ ἔγνωκεν αὐτόν. \n",
      "\n",
      "1_John § 8\n",
      "(3:7) Τεκνία, μηδεὶς πλανάτω ὑμᾶς· ὁ ποιῶν τὴν δικαιοσύνην δίκαιός ἐστιν, καθὼς ἐκεῖνος δίκαιός ἐστιν· (3:8) ὁ ποιῶν τὴν ἁμαρτίαν ἐκ τοῦ διαβόλου ἐστίν, ὅτι ἀπ’ ἀρχῆς ὁ διάβολος ἁμαρτάνει. εἰς τοῦτο ἐφανερώθη ὁ υἱὸς τοῦ θεοῦ, ἵνα λύσῃ τὰ ἔργα τοῦ διαβόλου. (3:9) πᾶς ὁ γεγεννημένος ἐκ τοῦ θεοῦ ἁμαρτίαν οὐ ποιεῖ, ὅτι σπέρμα αὐτοῦ ἐν αὐτῷ μένει· καὶ οὐ δύναται ἁμαρτάνειν, ὅτι ἐκ τοῦ θεοῦ γεγέννηται. (3:10) ἐν τούτῳ φανερά ἐστιν τὰ τέκνα τοῦ θεοῦ καὶ τὰ τέκνα τοῦ διαβόλου· πᾶς ὁ μὴ ποιῶν δικαιοσύνην οὐκ ἔστιν ἐκ τοῦ θεοῦ, καὶ ὁ μὴ ἀγαπῶν τὸν ἀδελφὸν αὐτοῦ. (3:11) ὅτι αὕτη ἐστὶν ἡ ἀγγελία ἣν ἠκούσατε ἀπ’ ἀρχῆς, ἵνα ἀγαπῶμεν ἀλλήλους· (3:12) οὐ καθὼς Κάϊν ἐκ τοῦ πονηροῦ ἦν καὶ ἔσφαξεν τὸν ἀδελφὸν αὐτοῦ· καὶ χάριν τίνος ἔσφαξεν αὐτόν; ὅτι τὰ ἔργα αὐτοῦ πονηρὰ ἦν, τὰ δὲ τοῦ ἀδελφοῦ αὐτοῦ δίκαια. \n",
      "\n",
      "1_John § 9\n",
      "(3:13) Καὶ μὴ θαυμάζετε, ἀδελφοί, εἰ μισεῖ ὑμᾶς ὁ κόσμος. (3:14) ἡμεῖς οἴδαμεν ὅτι μεταβεβήκαμεν ἐκ τοῦ θανάτου εἰς τὴν ζωήν, ὅτι ἀγαπῶμεν τοὺς ἀδελφούς· ὁ μὴ ἀγαπῶν μένει ἐν τῷ θανάτῳ. (3:15) πᾶς ὁ μισῶν τὸν ἀδελφὸν αὐτοῦ ἀνθρωποκτόνος ἐστίν, καὶ οἴδατε ὅτι πᾶς ἀνθρωποκτόνος οὐκ ἔχει ζωὴν αἰώνιον ἐν ἑαυτῷ μένουσαν. (3:16) ἐν τούτῳ ἐγνώκαμεν τὴν ἀγάπην, ὅτι ἐκεῖνος ὑπὲρ ὑμῶν τὴν ψυχὴν αὐτοῦ ἔθηκεν· καὶ ἡμεῖς ὀφείλομεν ὑπὲρ τῶν ἀδελφῶν τὰς ψυχὰς θεῖναι. (3:17) ὃς δ’ ἂν ἔχῃ τὸν βίον τοῦ κόσμου καὶ θεωρῇ τὸν ἀδελφὸν αὐτοῦ χρείαν ἔχοντα καὶ κλείσῃ τὰ σπλάγχνα αὐτοῦ ἀπ’ αὐτοῦ, πῶς ἡ ἀγάπη τοῦ θεοῦ μένει ἐν αὐτῷ; \n",
      "\n",
      "1_John § 10\n",
      "(3:18) Τεκνία, μὴ ἀγαπῶμεν λόγῳ μηδὲ τῇ γλώσσῃ ἀλλὰ ἐν ἔργῳ καὶ ἀληθείᾳ. (3:19) καὶ ἐν τούτῳ γνωσόμεθα ὅτι ἐκ τῆς ἀληθείας ἐσμέν, καὶ ἔμπροσθεν αὐτοῦ πείσομεν τὰς καρδίας ἡμῶν· (3:20) ὅτι ἐὰν καταγινώσκῃ ἡμῶν ἡ καρδία, ὅτι μείζων ἐστὶν ὁ θεὸς τῆς καρδίας ἡμῶν καὶ γινώσκει πάντα. \n",
      "\n",
      "1_John § 11\n",
      "(3:21) Ἀγαπητοί, ἐὰν ἡ καρδία ἡμῶν μὴ καταγινώσκῃ ἡμῶν, παρρησίαν ἔχομεν πρὸς τὸν θεόν, (3:22) καὶ ὃ ἐὰν αἰτῶμεν λαμβάνομεν ἀπ’ αὐτοῦ, ὅτι τὰς ἐντολὰς αὐτοῦ τηροῦμεν καὶ τὰ ἀρεστὰ ἐνώπιον αὐτοῦ ποιοῦμεν. (3:23) καὶ αὕτη ἐστὶν ἡ ἐντολὴ αὐτοῦ, ἵνα πιστεύσωμεν τῷ ὀνόματι τοῦ υἱοῦ αὐτοῦ Ἰησοῦ Χριστοῦ καὶ ἀγαπῶμεν ἀλλήλους, καθὼς ἔδωκεν ἐντολὴν ἡμῖν. (3:24) καὶ ὁ τηρῶν τὰς ἐντολὰς αὐτοῦ ἐν αὐτῷ μένει καὶ αὐτὸς ἐν αὐτῷ· καὶ ἐν τούτῳ γινώσκομεν ὅτι μένει ἐν ἡμῖν, ἐκ τοῦ πνεύματος οὗ ἡμῖν ἔδωκεν. (4:1) Ἀγαπητοί, μὴ παντὶ πνεύματι πιστεύετε, ἀλλὰ δοκιμάζετε τὰ πνεύματα εἰ ἐκ τοῦ θεοῦ ἐστιν, ὅτι πολλοὶ ψευδοπροφῆται ἐξεληλύθασιν εἰς τὸν κόσμον. (4:2) ἐν τούτῳ γινώσκετε τὸ πνεῦμα τοῦ θεοῦ· πᾶν πνεῦμα ὃ ὁμολογεῖ Ἰησοῦν Χριστὸν ἐν σαρκὶ ἐληλυθότα ἐκ τοῦ θεοῦ ἐστιν, (4:3) καὶ πᾶν πνεῦμα ὃ μὴ ὁμολογεῖ τὸν Ἰησοῦν ἐκ τοῦ θεοῦ οὐκ ἔστιν· καὶ τοῦτό ἐστιν τὸ τοῦ ἀντιχρίστου, ὃ ἀκηκόατε ὅτι ἔρχεται, καὶ νῦν ἐν τῷ κόσμῳ ἐστὶν ἤδη. \n",
      "\n",
      "1_John § 12\n",
      "(4:4) Ὑμεῖς ἐκ τοῦ θεοῦ ἐστέ, τεκνία, καὶ νενικήκατε αὐτούς, ὅτι μείζων ἐστὶν ὁ ἐν ὑμῖν ἢ ὁ ἐν τῷ κόσμῳ. (4:5) αὐτοὶ ἐκ τοῦ κόσμου εἰσίν· διὰ τοῦτο ἐκ τοῦ κόσμου λαλοῦσιν καὶ ὁ κόσμος αὐτῶν ἀκούει. (4:6) ἡμεῖς ἐκ τοῦ θεοῦ ἐσμεν· ὁ γινώσκων τὸν θεὸν ἀκούει ἡμῶν, ὃς οὐκ ἔστιν ἐκ τοῦ θεοῦ οὐκ ἀκούει ἡμῶν. ἐκ τούτου γινώσκομεν τὸ πνεῦμα τῆς ἀληθείας καὶ τὸ πνεῦμα τῆς πλάνης. \n",
      "\n",
      "1_John § 13\n",
      "(4:7) Ἀγαπητοί, ἀγαπῶμεν ἀλλήλους, ὅτι ἡ ἀγάπη ἐκ τοῦ θεοῦ ἐστιν, καὶ πᾶς ὁ ἀγαπῶν ἐκ τοῦ θεοῦ γεγέννηται καὶ γινώσκει τὸν θεόν. (4:8) ὁ μὴ ἀγαπῶν οὐκ ἔγνω τὸν θεόν, ὅτι ὁ θεὸς ἀγάπη ἐστίν. (4:9) ἐν τούτῳ ἐφανερώθη ἡ ἀγάπη τοῦ θεοῦ ἐν ἡμῖν, ὅτι τὸν υἱὸν αὐτοῦ τὸν μονογενῆ ἀπέσταλκεν ὁ θεὸς εἰς τὸν κόσμον ἵνα ζήσωμεν δι’ αὐτοῦ. (4:10) ἐν τούτῳ ἐστὶν ἡ ἀγάπη, οὐχ ὅτι ἡμεῖς ἠγαπήσαμεν τὸν θεόν, ἀλλ’ ὅτι αὐτὸς ἠγάπησεν ἡμᾶς καὶ ἀπέστειλεν τὸν υἱὸν αὐτοῦ ἱλασμὸν περὶ τῶν ἁμαρτιῶν ἡμῶν. \n",
      "\n",
      "1_John § 14\n",
      "(4:11) Ἀγαπητοί, εἰ οὕτως ὁ θεὸς ἠγάπησεν ἡμᾶς, καὶ ἡμεῖς ὀφείλομεν ἀλλήλους ἀγαπᾶν. (4:12) θεὸν οὐδεὶς πώποτε τεθέαται· ἐὰν ἀγαπῶμεν ἀλλήλους, ὁ θεὸς ἐν ἡμῖν μένει καὶ ἡ ἀγάπη αὐτοῦ τετελειωμένη ἐν ἡμῖν ἐστιν. (4:13) ἐν τούτῳ γινώσκομεν ὅτι ἐν αὐτῷ μένομεν καὶ αὐτὸς ἐν ἡμῖν, ὅτι ἐκ τοῦ πνεύματος αὐτοῦ δέδωκεν ἡμῖν. (4:14) καὶ ἡμεῖς τεθεάμεθα καὶ μαρτυροῦμεν ὅτι ὁ πατὴρ ἀπέσταλκεν τὸν υἱὸν σωτῆρα τοῦ κόσμου. (4:15) ὃς ἂν ὁμολογήσῃ ὅτι Ἰησοῦς ἐστιν ὁ υἱὸς τοῦ θεοῦ, ὁ θεὸς ἐν αὐτῷ μένει καὶ αὐτὸς ἐν τῷ θεῷ. (4:16) καὶ ἡμεῖς ἐγνώκαμεν καὶ πεπιστεύκαμεν τὴν ἀγάπην ἣν ἔχει ὁ θεὸς ἐν ἡμῖν. ὁ θεὸς ἀγάπη ἐστίν, καὶ ὁ μένων ἐν τῇ ἀγάπῃ ἐν τῷ θεῷ μένει καὶ ὁ θεὸς ἐν αὐτῷ μένει. \n",
      "\n",
      "1_John § 15\n",
      "(4:17) Ἐν τούτῳ τετελείωται ἡ ἀγάπη μεθ’ ἡμῶν, ἵνα παρρησίαν ἔχωμεν ἐν τῇ ἡμέρᾳ τῆς κρίσεως, ὅτι καθὼς ἐκεῖνός ἐστιν καὶ ἡμεῖς ἐσμεν ἐν τῷ κόσμῳ τούτῳ. (4:18) φόβος οὐκ ἔστιν ἐν τῇ ἀγάπῃ, ἀλλ’ ἡ τελεία ἀγάπη ἔξω βάλλει τὸν φόβον, ὅτι ὁ φόβος κόλασιν ἔχει, ὁ δὲ φοβούμενος οὐ τετελείωται ἐν τῇ ἀγάπῃ. (4:19) ἡμεῖς ἀγαπῶμεν, ὅτι αὐτὸς πρῶτος ἠγάπησεν ἡμᾶς. (4:20) ἐάν τις εἴπῃ ὅτι ἀγαπῶ τὸν θεόν, καὶ τὸν ἀδελφὸν αὐτοῦ μισῇ, Ψεύστης ἐστίν· ὁ γὰρ μὴ ἀγαπῶν τὸν ἀδελφὸν αὐτοῦ ὃν ἑώρακεν, τὸν θεὸν ὃν οὐχ ἑώρακεν οὐ δύναται ἀγαπᾶν. (4:21) καὶ ταύτην τὴν ἐντολὴν ἔχομεν ἀπ’ αὐτοῦ, ἵνα ὁ ἀγαπῶν τὸν θεὸν ἀγαπᾷ καὶ τὸν ἀδελφὸν αὐτοῦ. (5:1) Πᾶς ὁ πιστεύων ὅτι Ἰησοῦς ἐστιν ὁ Χριστὸς ἐκ τοῦ θεοῦ γεγέννηται, καὶ πᾶς ὁ ἀγαπῶν τὸν γεννήσαντα ἀγαπᾷ καὶ τὸν γεγεννημένον ἐξ αὐτοῦ. (5:2) ἐν τούτῳ γινώσκομεν ὅτι ἀγαπῶμεν τὰ τέκνα τοῦ θεοῦ, ὅταν τὸν θεὸν ἀγαπῶμεν καὶ τὰς ἐντολὰς αὐτοῦ ποιῶμεν. (5:3) αὕτη γάρ ἐστιν ἡ ἀγάπη τοῦ θεοῦ, ἵνα τὰς ἐντολὰς αὐτοῦ τηρῶμεν· καὶ αἱ ἐντολαὶ αὐτοῦ βαρεῖαι οὐκ εἰσίν, (5:4) ὅτι πᾶν τὸ γεγεννημένον ἐκ τοῦ θεοῦ νικᾷ τὸν κόσμον· καὶ αὕτη ἐστὶν ἡ νίκη ἡ νικήσασα τὸν κόσμον, ἡ πίστις ἡμῶν. (5:5) τίς ἐστιν ὁ νικῶν τὸν κόσμον εἰ μὴ ὁ πιστεύων ὅτι Ἰησοῦς ἐστιν ὁ υἱὸς τοῦ θεοῦ; \n",
      "\n",
      "1_John § 16\n",
      "(5:6) Οὗτός ἐστιν ὁ ἐλθὼν δι’ ὕδατος καὶ αἵματος, Ἰησοῦς Χριστός· οὐκ ἐν τῷ ὕδατι μόνον ἀλλ’ ἐν τῷ ὕδατι καὶ ἐν τῷ αἵματι· καὶ τὸ πνεῦμά ἐστιν τὸ μαρτυροῦν, ὅτι τὸ πνεῦμά ἐστιν ἡ ἀλήθεια. (5:7) ὅτι τρεῖς εἰσιν οἱ μαρτυροῦντες, (5:8) τὸ πνεῦμα καὶ τὸ ὕδωρ καὶ τὸ αἷμα, καὶ οἱ τρεῖς εἰς τὸ ἕν εἰσιν. (5:9) εἰ τὴν μαρτυρίαν τῶν ἀνθρώπων λαμβάνομεν, ἡ μαρτυρία τοῦ θεοῦ μείζων ἐστίν, ὅτι αὕτη ἐστὶν ἡ μαρτυρία τοῦ θεοῦ, ὅτι μεμαρτύρηκεν περὶ τοῦ υἱοῦ αὐτοῦ. (5:10) ὁ πιστεύων εἰς τὸν υἱὸν τοῦ θεοῦ ἔχει τὴν μαρτυρίαν ἐν αὐτῷ· ὁ μὴ πιστεύων τῷ θεῷ ψεύστην πεποίηκεν αὐτόν, ὅτι οὐ πεπίστευκεν εἰς τὴν μαρτυρίαν ἣν μεμαρτύρηκεν ὁ θεὸς περὶ τοῦ υἱοῦ αὐτοῦ. (5:11) καὶ αὕτη ἐστὶν ἡ μαρτυρία, ὅτι ζωὴν αἰώνιον ἔδωκεν ἡμῖν ὁ θεός, καὶ αὕτη ἡ ζωὴ ἐν τῷ υἱῷ αὐτοῦ ἐστιν. (5:12) ὁ ἔχων τὸν υἱὸν ἔχει τὴν ζωήν· ὁ μὴ ἔχων τὸν υἱὸν τοῦ θεοῦ τὴν ζωὴν οὐκ ἔχει. \n",
      "\n",
      "1_John § 17\n",
      "(5:13) Ταῦτα ἔγραψα ὑμῖν ἵνα εἰδῆτε ὅτι ζωὴν ἔχετε αἰώνιον, τοῖς πιστεύουσιν εἰς τὸ ὄνομα τοῦ υἱοῦ τοῦ θεοῦ. (5:14) καὶ αὕτη ἐστὶν ἡ παρρησία ἣν ἔχομεν πρὸς αὐτόν, ὅτι ἐάν τι αἰτώμεθα κατὰ τὸ θέλημα αὐτοῦ ἀκούει ἡμῶν. (5:15) καὶ ἐὰν οἴδαμεν ὅτι ἀκούει ἡμῶν ὃ ἐὰν αἰτώμεθα, οἴδαμεν ὅτι ἔχομεν τὰ αἰτήματα ἃ ᾐτήκαμεν ἀπ’ αὐτοῦ. (5:16) ἐάν τις ἴδῃ τὸν ἀδελφὸν αὐτοῦ ἁμαρτάνοντα ἁμαρτίαν μὴ πρὸς θάνατον, αἰτήσει, καὶ δώσει αὐτῷ ζωήν, τοῖς ἁμαρτάνουσιν μὴ πρὸς θάνατον. ἔστιν ἁμαρτία πρὸς θάνατον· οὐ περὶ ἐκείνης λέγω ἵνα ἐρωτήσῃ. (5:17) πᾶσα ἀδικία ἁμαρτία ἐστίν, καὶ ἔστιν ἁμαρτία οὐ πρὸς θάνατον. \n",
      "\n",
      "1_John § 18\n",
      "(5:18) Οἴδαμεν ὅτι πᾶς ὁ γεγεννημένος ἐκ τοῦ θεοῦ οὐχ ἁμαρτάνει, ἀλλ’ ὁ γεννηθεὶς ἐκ τοῦ θεοῦ τηρεῖ αὐτόν, καὶ ὁ πονηρὸς οὐχ ἅπτεται αὐτοῦ. (5:19) οἴδαμεν ὅτι ἐκ τοῦ θεοῦ ἐσμεν, καὶ ὁ κόσμος ὅλος ἐν τῷ πονηρῷ κεῖται. (5:20) οἴδαμεν δὲ ὅτι ὁ υἱὸς τοῦ θεοῦ ἥκει, καὶ δέδωκεν ἡμῖν διάνοιαν ἵνα γινώσκομεν τὸν ἀληθινόν· καὶ ἐσμὲν ἐν τῷ ἀληθινῷ, ἐν τῷ υἱῷ αὐτοῦ Ἰησοῦ Χριστῷ. οὗτός ἐστιν ὁ ἀληθινὸς θεὸς καὶ ζωὴ αἰώνιος. \n",
      "\n",
      "1_John § 19\n",
      "(5:21) Τεκνία, φυλάξατε ἑαυτὰ ἀπὸ τῶν εἰδώλων. \n",
      "\n"
     ]
    }
   ],
   "source": [
    "for para in L.d(show_book, 'paragraph'):\n",
    "    print(F.book.v(show_book), '§', F.para.v(para))\n",
    "    \n",
    "    for verse in L.d(para, 'verse'):\n",
    "        book,chapter,vrs = T.sectionFromNode(verse)\n",
    "        print(f'({chapter}:{vrs}) {T.text(verse)}', end='')\n",
    "    print('\\n')"
   ]
  }
 ],
 "metadata": {
  "kernelspec": {
   "display_name": "Python 3",
   "language": "python",
   "name": "python3"
  },
  "language_info": {
   "codemirror_mode": {
    "name": "ipython",
    "version": 3
   },
   "file_extension": ".py",
   "mimetype": "text/x-python",
   "name": "python",
   "nbconvert_exporter": "python",
   "pygments_lexer": "ipython3",
   "version": "3.7.0"
  }
 },
 "nbformat": 4,
 "nbformat_minor": 2
}
